{
  "cells": [
    {
      "cell_type": "code",
      "execution_count": 1,
      "id": "KmQjIiiNQgQ6",
      "metadata": {
        "colab": {
          "base_uri": "https://localhost:8080/"
        },
        "id": "KmQjIiiNQgQ6",
        "outputId": "690697ba-b3c1-4b49-fde2-834fe43dc48f"
      },
      "outputs": [
        {
          "output_type": "stream",
          "name": "stdout",
          "text": [
            "Mounted at /content/drive\n"
          ]
        }
      ],
      "source": [
        "from google.colab import drive\n",
        "drive.mount('/content/drive')"
      ]
    },
    {
      "cell_type": "code",
      "execution_count": 2,
      "id": "aLRXTRJ4Qiou",
      "metadata": {
        "colab": {
          "base_uri": "https://localhost:8080/"
        },
        "id": "aLRXTRJ4Qiou",
        "outputId": "84bf2833-d24d-4be2-8367-470820d61319"
      },
      "outputs": [
        {
          "output_type": "stream",
          "name": "stdout",
          "text": [
            "Sat Jan 27 04:13:59 2024       \n",
            "+---------------------------------------------------------------------------------------+\n",
            "| NVIDIA-SMI 535.104.05             Driver Version: 535.104.05   CUDA Version: 12.2     |\n",
            "|-----------------------------------------+----------------------+----------------------+\n",
            "| GPU  Name                 Persistence-M | Bus-Id        Disp.A | Volatile Uncorr. ECC |\n",
            "| Fan  Temp   Perf          Pwr:Usage/Cap |         Memory-Usage | GPU-Util  Compute M. |\n",
            "|                                         |                      |               MIG M. |\n",
            "|=========================================+======================+======================|\n",
            "|   0  Tesla T4                       Off | 00000000:00:04.0 Off |                    0 |\n",
            "| N/A   49C    P8              10W /  70W |      0MiB / 15360MiB |      0%      Default |\n",
            "|                                         |                      |                  N/A |\n",
            "+-----------------------------------------+----------------------+----------------------+\n",
            "                                                                                         \n",
            "+---------------------------------------------------------------------------------------+\n",
            "| Processes:                                                                            |\n",
            "|  GPU   GI   CI        PID   Type   Process name                            GPU Memory |\n",
            "|        ID   ID                                                             Usage      |\n",
            "|=======================================================================================|\n",
            "|  No running processes found                                                           |\n",
            "+---------------------------------------------------------------------------------------+\n"
          ]
        }
      ],
      "source": [
        "gpu_info = !nvidia-smi\n",
        "gpu_info = '\\n'.join(gpu_info)\n",
        "if gpu_info.find('failed') >= 0:\n",
        "    print('Not connected to a GPU')\n",
        "else:\n",
        "    print(gpu_info)"
      ]
    },
    {
      "cell_type": "code",
      "execution_count": 3,
      "id": "GciUiIitQjNS",
      "metadata": {
        "colab": {
          "base_uri": "https://localhost:8080/"
        },
        "id": "GciUiIitQjNS",
        "outputId": "edb1472a-99ec-41ee-d56b-08db0369c26d"
      },
      "outputs": [
        {
          "output_type": "stream",
          "name": "stdout",
          "text": [
            "Collecting esda\n",
            "  Downloading esda-2.5.1-py3-none-any.whl (132 kB)\n",
            "\u001b[2K     \u001b[90m━━━━━━━━━━━━━━━━━━━━━━━━━━━━━━━━━━━━━━━━\u001b[0m \u001b[32m132.4/132.4 kB\u001b[0m \u001b[31m2.0 MB/s\u001b[0m eta \u001b[36m0:00:00\u001b[0m\n",
            "\u001b[?25hCollecting libpysal (from esda)\n",
            "  Downloading libpysal-4.9.2-py3-none-any.whl (2.8 MB)\n",
            "\u001b[2K     \u001b[90m━━━━━━━━━━━━━━━━━━━━━━━━━━━━━━━━━━━━━━━━\u001b[0m \u001b[32m2.8/2.8 MB\u001b[0m \u001b[31m11.9 MB/s\u001b[0m eta \u001b[36m0:00:00\u001b[0m\n",
            "\u001b[?25hRequirement already satisfied: pandas>1.4 in /usr/local/lib/python3.10/dist-packages (from esda) (1.5.3)\n",
            "Requirement already satisfied: scikit-learn>=1.0 in /usr/local/lib/python3.10/dist-packages (from esda) (1.2.2)\n",
            "Requirement already satisfied: scipy>=1.9 in /usr/local/lib/python3.10/dist-packages (from esda) (1.11.4)\n",
            "Requirement already satisfied: python-dateutil>=2.8.1 in /usr/local/lib/python3.10/dist-packages (from pandas>1.4->esda) (2.8.2)\n",
            "Requirement already satisfied: pytz>=2020.1 in /usr/local/lib/python3.10/dist-packages (from pandas>1.4->esda) (2023.3.post1)\n",
            "Requirement already satisfied: numpy>=1.21.0 in /usr/local/lib/python3.10/dist-packages (from pandas>1.4->esda) (1.23.5)\n",
            "Requirement already satisfied: joblib>=1.1.1 in /usr/local/lib/python3.10/dist-packages (from scikit-learn>=1.0->esda) (1.3.2)\n",
            "Requirement already satisfied: threadpoolctl>=2.0.0 in /usr/local/lib/python3.10/dist-packages (from scikit-learn>=1.0->esda) (3.2.0)\n",
            "Requirement already satisfied: beautifulsoup4>=4.10 in /usr/local/lib/python3.10/dist-packages (from libpysal->esda) (4.11.2)\n",
            "Requirement already satisfied: geopandas>=0.10.0 in /usr/local/lib/python3.10/dist-packages (from libpysal->esda) (0.13.2)\n",
            "Requirement already satisfied: packaging>=22 in /usr/local/lib/python3.10/dist-packages (from libpysal->esda) (23.2)\n",
            "Requirement already satisfied: platformdirs>=2.0.2 in /usr/local/lib/python3.10/dist-packages (from libpysal->esda) (4.1.0)\n",
            "Requirement already satisfied: requests>=2.27 in /usr/local/lib/python3.10/dist-packages (from libpysal->esda) (2.31.0)\n",
            "Requirement already satisfied: shapely>=2.0.1 in /usr/local/lib/python3.10/dist-packages (from libpysal->esda) (2.0.2)\n",
            "Requirement already satisfied: soupsieve>1.2 in /usr/local/lib/python3.10/dist-packages (from beautifulsoup4>=4.10->libpysal->esda) (2.5)\n",
            "Requirement already satisfied: fiona>=1.8.19 in /usr/local/lib/python3.10/dist-packages (from geopandas>=0.10.0->libpysal->esda) (1.9.5)\n",
            "Requirement already satisfied: pyproj>=3.0.1 in /usr/local/lib/python3.10/dist-packages (from geopandas>=0.10.0->libpysal->esda) (3.6.1)\n",
            "Requirement already satisfied: six>=1.5 in /usr/local/lib/python3.10/dist-packages (from python-dateutil>=2.8.1->pandas>1.4->esda) (1.16.0)\n",
            "Requirement already satisfied: charset-normalizer<4,>=2 in /usr/local/lib/python3.10/dist-packages (from requests>=2.27->libpysal->esda) (3.3.2)\n",
            "Requirement already satisfied: idna<4,>=2.5 in /usr/local/lib/python3.10/dist-packages (from requests>=2.27->libpysal->esda) (3.6)\n",
            "Requirement already satisfied: urllib3<3,>=1.21.1 in /usr/local/lib/python3.10/dist-packages (from requests>=2.27->libpysal->esda) (2.0.7)\n",
            "Requirement already satisfied: certifi>=2017.4.17 in /usr/local/lib/python3.10/dist-packages (from requests>=2.27->libpysal->esda) (2023.11.17)\n",
            "Requirement already satisfied: attrs>=19.2.0 in /usr/local/lib/python3.10/dist-packages (from fiona>=1.8.19->geopandas>=0.10.0->libpysal->esda) (23.2.0)\n",
            "Requirement already satisfied: click~=8.0 in /usr/local/lib/python3.10/dist-packages (from fiona>=1.8.19->geopandas>=0.10.0->libpysal->esda) (8.1.7)\n",
            "Requirement already satisfied: click-plugins>=1.0 in /usr/local/lib/python3.10/dist-packages (from fiona>=1.8.19->geopandas>=0.10.0->libpysal->esda) (1.1.1)\n",
            "Requirement already satisfied: cligj>=0.5 in /usr/local/lib/python3.10/dist-packages (from fiona>=1.8.19->geopandas>=0.10.0->libpysal->esda) (0.7.2)\n",
            "Requirement already satisfied: setuptools in /usr/local/lib/python3.10/dist-packages (from fiona>=1.8.19->geopandas>=0.10.0->libpysal->esda) (67.7.2)\n",
            "Installing collected packages: libpysal, esda\n",
            "Successfully installed esda-2.5.1 libpysal-4.9.2\n",
            "Requirement already satisfied: geopandas in /usr/local/lib/python3.10/dist-packages (0.13.2)\n",
            "Requirement already satisfied: fiona>=1.8.19 in /usr/local/lib/python3.10/dist-packages (from geopandas) (1.9.5)\n",
            "Requirement already satisfied: packaging in /usr/local/lib/python3.10/dist-packages (from geopandas) (23.2)\n",
            "Requirement already satisfied: pandas>=1.1.0 in /usr/local/lib/python3.10/dist-packages (from geopandas) (1.5.3)\n",
            "Requirement already satisfied: pyproj>=3.0.1 in /usr/local/lib/python3.10/dist-packages (from geopandas) (3.6.1)\n",
            "Requirement already satisfied: shapely>=1.7.1 in /usr/local/lib/python3.10/dist-packages (from geopandas) (2.0.2)\n",
            "Requirement already satisfied: attrs>=19.2.0 in /usr/local/lib/python3.10/dist-packages (from fiona>=1.8.19->geopandas) (23.2.0)\n",
            "Requirement already satisfied: certifi in /usr/local/lib/python3.10/dist-packages (from fiona>=1.8.19->geopandas) (2023.11.17)\n",
            "Requirement already satisfied: click~=8.0 in /usr/local/lib/python3.10/dist-packages (from fiona>=1.8.19->geopandas) (8.1.7)\n",
            "Requirement already satisfied: click-plugins>=1.0 in /usr/local/lib/python3.10/dist-packages (from fiona>=1.8.19->geopandas) (1.1.1)\n",
            "Requirement already satisfied: cligj>=0.5 in /usr/local/lib/python3.10/dist-packages (from fiona>=1.8.19->geopandas) (0.7.2)\n",
            "Requirement already satisfied: six in /usr/local/lib/python3.10/dist-packages (from fiona>=1.8.19->geopandas) (1.16.0)\n",
            "Requirement already satisfied: setuptools in /usr/local/lib/python3.10/dist-packages (from fiona>=1.8.19->geopandas) (67.7.2)\n",
            "Requirement already satisfied: python-dateutil>=2.8.1 in /usr/local/lib/python3.10/dist-packages (from pandas>=1.1.0->geopandas) (2.8.2)\n",
            "Requirement already satisfied: pytz>=2020.1 in /usr/local/lib/python3.10/dist-packages (from pandas>=1.1.0->geopandas) (2023.3.post1)\n",
            "Requirement already satisfied: numpy>=1.21.0 in /usr/local/lib/python3.10/dist-packages (from pandas>=1.1.0->geopandas) (1.23.5)\n",
            "Collecting mapclassify\n",
            "  Downloading mapclassify-2.6.1-py3-none-any.whl (38 kB)\n",
            "Requirement already satisfied: networkx>=2.7 in /usr/local/lib/python3.10/dist-packages (from mapclassify) (3.2.1)\n",
            "Requirement already satisfied: numpy>=1.23 in /usr/local/lib/python3.10/dist-packages (from mapclassify) (1.23.5)\n",
            "Requirement already satisfied: pandas!=1.5.0,>=1.4 in /usr/local/lib/python3.10/dist-packages (from mapclassify) (1.5.3)\n",
            "Requirement already satisfied: scikit-learn>=1.0 in /usr/local/lib/python3.10/dist-packages (from mapclassify) (1.2.2)\n",
            "Requirement already satisfied: scipy>=1.8 in /usr/local/lib/python3.10/dist-packages (from mapclassify) (1.11.4)\n",
            "Requirement already satisfied: python-dateutil>=2.8.1 in /usr/local/lib/python3.10/dist-packages (from pandas!=1.5.0,>=1.4->mapclassify) (2.8.2)\n",
            "Requirement already satisfied: pytz>=2020.1 in /usr/local/lib/python3.10/dist-packages (from pandas!=1.5.0,>=1.4->mapclassify) (2023.3.post1)\n",
            "Requirement already satisfied: joblib>=1.1.1 in /usr/local/lib/python3.10/dist-packages (from scikit-learn>=1.0->mapclassify) (1.3.2)\n",
            "Requirement already satisfied: threadpoolctl>=2.0.0 in /usr/local/lib/python3.10/dist-packages (from scikit-learn>=1.0->mapclassify) (3.2.0)\n",
            "Requirement already satisfied: six>=1.5 in /usr/local/lib/python3.10/dist-packages (from python-dateutil>=2.8.1->pandas!=1.5.0,>=1.4->mapclassify) (1.16.0)\n",
            "Installing collected packages: mapclassify\n",
            "Successfully installed mapclassify-2.6.1\n"
          ]
        }
      ],
      "source": [
        "!pip install esda\n",
        "!pip install geopandas\n",
        "!pip install mapclassify"
      ]
    },
    {
      "cell_type": "code",
      "execution_count": 4,
      "id": "55db7c25",
      "metadata": {
        "id": "55db7c25"
      },
      "outputs": [],
      "source": [
        "import esda\n",
        "import numpy as np\n",
        "import pandas as pd\n",
        "import geopandas as gpd\n",
        "import mapclassify as mc\n",
        "import libpysal as lps\n",
        "from geopandas import GeoDataFrame\n",
        "from matplotlib import colors\n",
        "import matplotlib.pyplot as plt\n",
        "from shapely.geometry import Point\n",
        "import seaborn as sbn\n",
        "from pyproj import CRS\n",
        "from tqdm import tqdm\n",
        "import torch\n",
        "import os\n",
        "import random\n",
        "from sklearn.preprocessing import MinMaxScaler, Normalizer, RobustScaler, StandardScaler\n",
        "import statsmodels.formula.api as smf\n",
        "from sklearn.metrics import mean_squared_error\n",
        "from sklearn.metrics import mean_absolute_error\n",
        "from sklearn.metrics import mean_absolute_percentage_error\n",
        "import torch\n",
        "from torch import nn, optim\n",
        "from torch.autograd import Variable\n",
        "from torch.utils.data import DataLoader\n",
        "import torch.utils.data as Data\n",
        "from torchvision import transforms, datasets\n",
        "from sklearn.metrics import r2_score, accuracy_score"
      ]
    },
    {
      "cell_type": "code",
      "execution_count": 5,
      "id": "0827de53",
      "metadata": {
        "id": "0827de53"
      },
      "outputs": [],
      "source": [
        "device = torch.device(\"cuda:0\" if torch.cuda.is_available() else \"cpu\")"
      ]
    },
    {
      "cell_type": "markdown",
      "id": "9314b3a6",
      "metadata": {
        "id": "9314b3a6"
      },
      "source": [
        "# 读取数据"
      ]
    },
    {
      "cell_type": "code",
      "execution_count": 6,
      "id": "49658958",
      "metadata": {
        "id": "49658958"
      },
      "outputs": [],
      "source": [
        "#  三种情景，三组数据\n",
        "data1 = pd.read_excel(\"drive/MyDrive/Colab Notebooks/data/基准处理后1.xlsx\")\n",
        "data2 = pd.read_excel(\"drive/MyDrive/Colab Notebooks/data/产业结构处理后1.xlsx\")\n",
        "data3 = pd.read_excel(\"drive/MyDrive/Colab Notebooks/data/粗放处理后1.xlsx\")\n",
        "data4 = pd.read_excel(\"drive/MyDrive/Colab Notebooks/data/节能减排处理后1.xlsx\")\n",
        "data5 = pd.read_excel(\"drive/MyDrive/Colab Notebooks/data/协调发展处理后1.xlsx\")"
      ]
    },
    {
      "cell_type": "code",
      "execution_count": 7,
      "id": "6dd61bd0",
      "metadata": {
        "id": "6dd61bd0"
      },
      "outputs": [],
      "source": [
        "df_1 = data1.rename(\n",
        "    columns={\n",
        "        'ce':'y',\n",
        "        'peo':'x1',\n",
        "        'mon':'x2',\n",
        "        'nq':'x3',\n",
        "        'tbz':'x4',\n",
        "        'cj':'x5',\n",
        "        'cz':'x6',\n",
        "        'FDI':'x7',\n",
        "        'gj':'x8',\n",
        "        'did':'x9',\n",
        "        'peo_lag':'X1',\n",
        "        'mon_lag':'X2',\n",
        "        'nq_lag':'X3',\n",
        "        'tbz_lag':'X4',\n",
        "        'cj_lag':'X5',\n",
        "        'cz_lag':'X6',\n",
        "        'FDI_lag':'X7',\n",
        "        'gj_lag':'X8',\n",
        "        'did_lag':'X9',\n",
        "        'city':'city'\n",
        "    }\n",
        ")\n",
        "\n",
        "df_2 = data2.rename(\n",
        "    columns={\n",
        "        'ci':'y',\n",
        "        'peo':'x1',\n",
        "        'mon':'x2',\n",
        "        'nq':'x3',\n",
        "        'tbz':'x4',\n",
        "        'cj':'x5',\n",
        "        'cz':'x6',\n",
        "        'FDI':'x7',\n",
        "        'gj':'x8',\n",
        "        'did':'x9',\n",
        "        'peo_lag':'X1',\n",
        "        'mon_lag':'X2',\n",
        "        'nq_lag':'X3',\n",
        "        'tbz_lag':'X4',\n",
        "        'cj_lag':'X5',\n",
        "        'cz_lag':'X6',\n",
        "        'FDI_lag':'X7',\n",
        "        'gj_lag':'X8',\n",
        "        'did_lag':'X9',\n",
        "        'city':'city'\n",
        "    }\n",
        ")\n",
        "\n",
        "df_3 = data3.rename(\n",
        "    columns={\n",
        "        'ci':'y',\n",
        "        'peo':'x1',\n",
        "        'mon':'x2',\n",
        "        'nq':'x3',\n",
        "        'tbz':'x4',\n",
        "        'cj':'x5',\n",
        "        'cz':'x6',\n",
        "        'FDI':'x7',\n",
        "        'gj':'x8',\n",
        "        'did':'x9',\n",
        "        'peo_lag':'X1',\n",
        "        'mon_lag':'X2',\n",
        "        'nq_lag':'X3',\n",
        "        'tbz_lag':'X4',\n",
        "        'cj_lag':'X5',\n",
        "        'cz_lag':'X6',\n",
        "        'FDI_lag':'X7',\n",
        "        'gj_lag':'X8',\n",
        "        'did_lag':'X9',\n",
        "        'city':'city'\n",
        "    }\n",
        ")\n",
        "\n",
        "df_4 = data4.rename(\n",
        "    columns={\n",
        "        'ci':'y',\n",
        "        'peo':'x1',\n",
        "        'mon':'x2',\n",
        "        'nq':'x3',\n",
        "        'tbz':'x4',\n",
        "        'cj':'x5',\n",
        "        'cz':'x6',\n",
        "        'FDI':'x7',\n",
        "        'gj':'x8',\n",
        "        'did':'x9',\n",
        "        'peo_lag':'X1',\n",
        "        'mon_lag':'X2',\n",
        "        'nq_lag':'X3',\n",
        "        'tbz_lag':'X4',\n",
        "        'cj_lag':'X5',\n",
        "        'cz_lag':'X6',\n",
        "        'FDI_lag':'X7',\n",
        "        'gj_lag':'X8',\n",
        "        'did_lag':'X9',\n",
        "        'city':'city'\n",
        "    }\n",
        ")\n",
        "\n",
        "df_5 = data5.rename(\n",
        "    columns={\n",
        "        'ci':'y',\n",
        "        'peo':'x1',\n",
        "        'mon':'x2',\n",
        "        'nq':'x3',\n",
        "        'tbz':'x4',\n",
        "        'cj':'x5',\n",
        "        'cz':'x6',\n",
        "        'FDI':'x7',\n",
        "        'gj':'x8',\n",
        "        'did':'x9',\n",
        "        'peo_lag':'X1',\n",
        "        'mon_lag':'X2',\n",
        "        'nq_lag':'X3',\n",
        "        'tbz_lag':'X4',\n",
        "        'cj_lag':'X5',\n",
        "        'cz_lag':'X6',\n",
        "        'FDI_lag':'X7',\n",
        "        'gj_lag':'X8',\n",
        "        'did_lag':'X9',\n",
        "        'city':'city'\n",
        "    }\n",
        ")"
      ]
    },
    {
      "cell_type": "code",
      "execution_count": 8,
      "id": "d6d38aff",
      "metadata": {
        "colab": {
          "base_uri": "https://localhost:8080/"
        },
        "id": "d6d38aff",
        "outputId": "0f58f347-98cc-41b3-9fe9-de7ed29dc34d"
      },
      "outputs": [
        {
          "output_type": "execute_result",
          "data": {
            "text/plain": [
              "(1170, 19)"
            ]
          },
          "metadata": {},
          "execution_count": 8
        }
      ],
      "source": [
        "#  分别提取X和Y\n",
        "x1 = pd.DataFrame(df_1, columns=[\"x1\", \"x2\", \"x3\", \"x4\", \"x5\", \"x6\", \"x7\", \"x8\", \"x9\", \"X1\", \"X2\", \"X3\", \"X4\", \"X5\", \"X6\", \"X7\", \"X8\", \"X9\", 'city'])\n",
        "y1 = pd.DataFrame(df_1, columns=[\"y\"])\n",
        "x2 = pd.DataFrame(df_2, columns=[\"x1\", \"x2\", \"x3\", \"x4\", \"x5\", \"x6\", \"x7\", \"x8\", \"x9\", \"X1\", \"X2\", \"X3\", \"X4\", \"X5\", \"X6\", \"X7\", \"X8\", \"X9\", 'city'])\n",
        "y2 = pd.DataFrame(df_2, columns=[\"y\"])\n",
        "x3 = pd.DataFrame(df_3, columns=[\"x1\", \"x2\", \"x3\", \"x4\", \"x5\", \"x6\", \"x7\", \"x8\", \"x9\", \"X1\", \"X2\", \"X3\", \"X4\", \"X5\", \"X6\", \"X7\", \"X8\", \"X9\", 'city'])\n",
        "y3 = pd.DataFrame(df_3, columns=[\"y\"])\n",
        "x4 = pd.DataFrame(df_4, columns=[\"x1\", \"x2\", \"x3\", \"x4\", \"x5\", \"x6\", \"x7\", \"x8\", \"x9\", \"X1\", \"X2\", \"X3\", \"X4\", \"X5\", \"X6\", \"X7\", \"X8\", \"X9\", 'city'])\n",
        "y4 = pd.DataFrame(df_4, columns=[\"y\"])\n",
        "x5 = pd.DataFrame(df_5, columns=[\"x1\", \"x2\", \"x3\", \"x4\", \"x5\", \"x6\", \"x7\", \"x8\", \"x9\", \"X1\", \"X2\", \"X3\", \"X4\", \"X5\", \"X6\", \"X7\", \"X8\", \"X9\", 'city'])\n",
        "y5 = pd.DataFrame(df_5, columns=[\"y\"])\n",
        "#x1 = np.array(x1)\n",
        "#y1 = np.array(y1)\n",
        "x1.shape"
      ]
    },
    {
      "cell_type": "markdown",
      "id": "08c26880",
      "metadata": {
        "id": "08c26880"
      },
      "source": [
        "# 加入高斯噪声"
      ]
    },
    {
      "cell_type": "code",
      "execution_count": 9,
      "id": "f21fa8bf",
      "metadata": {
        "id": "f21fa8bf"
      },
      "outputs": [],
      "source": [
        "def gauss_noisy(x, y):\n",
        "    \"\"\"\n",
        "    对输入数据加入高斯噪声\n",
        "    :param x: x轴数据\n",
        "    :param y: y轴数据\n",
        "    :return:\n",
        "    \"\"\"\n",
        "    mu = 0\n",
        "    sigma = 0.05\n",
        "    for i in range(len(x)):\n",
        "        x[i] += random.gauss(mu, sigma)\n",
        "        #y[i] += random.gauss(mu, sigma)"
      ]
    },
    {
      "cell_type": "code",
      "source": [
        "y1 = y1.apply(np.exp)\n",
        "#x1 = x1.apply(np.exp)"
      ],
      "metadata": {
        "id": "8r3AmT-Ofd4P"
      },
      "id": "8r3AmT-Ofd4P",
      "execution_count": 10,
      "outputs": []
    },
    {
      "cell_type": "code",
      "execution_count": 11,
      "id": "d8135e1d",
      "metadata": {
        "id": "d8135e1d"
      },
      "outputs": [],
      "source": [
        "#  三组数据分别加入高斯噪声\n",
        "#gauss_noisy(x1, y1)\n",
        "x1 = pd.DataFrame(x1)\n",
        "y1 = pd.DataFrame(y1)"
      ]
    },
    {
      "cell_type": "code",
      "source": [
        "data1 = pd.concat([y1,x1], axis=1)\n",
        "data1 = np.array(data1)\n",
        "data2 = pd.concat([y2,x2], axis=1)\n",
        "data2 = np.array(data2)\n",
        "data3 = pd.concat([y3,x3], axis=1)\n",
        "data3 = np.array(data3)\n",
        "data4 = pd.concat([y4,x4], axis=1)\n",
        "data4 = np.array(data4)\n",
        "data5 = pd.concat([y5,x5], axis=1)\n",
        "data5 = np.array(data5)"
      ],
      "metadata": {
        "id": "NpJ6FkWD5FU3"
      },
      "id": "NpJ6FkWD5FU3",
      "execution_count": 12,
      "outputs": []
    },
    {
      "cell_type": "markdown",
      "id": "a4297e19",
      "metadata": {
        "id": "a4297e19"
      },
      "source": [
        "# 分割数据"
      ]
    },
    {
      "cell_type": "code",
      "source": [
        "data1.shape"
      ],
      "metadata": {
        "colab": {
          "base_uri": "https://localhost:8080/"
        },
        "id": "398SGvqJp3j6",
        "outputId": "bc7aac19-5f2e-44f8-8dc8-46687b350b34"
      },
      "id": "398SGvqJp3j6",
      "execution_count": null,
      "outputs": [
        {
          "output_type": "execute_result",
          "data": {
            "text/plain": [
              "(1170, 20)"
            ]
          },
          "metadata": {},
          "execution_count": 13
        }
      ]
    },
    {
      "cell_type": "code",
      "source": [
        "X1 = data1[:750, 1:]\n",
        "X1 = X1.reshape(750, 1, 19)\n",
        "Y1 = data1[:750, 0]\n",
        "Y1 = Y1.reshape(750, 1)\n",
        "X1_pre = data1[750:, 1:]\n",
        "X1_pre = X1_pre.reshape(420, 1, 19)\n",
        "\n",
        "X2 = data2[:750, 1:]\n",
        "X2 = X2.reshape(750, 1, 19)\n",
        "Y2 = data2[:750, 0]\n",
        "Y2 = Y2.reshape(750, 1)\n",
        "X2_pre = data2[750:, 1:]\n",
        "X2_pre = X2_pre.reshape(420, 1, 19)\n",
        "\n",
        "X3 = data3[:750, 1:]\n",
        "X3 = X3.reshape(750, 1, 19)\n",
        "Y3 = data3[:750, 0]\n",
        "Y3 = Y3.reshape(750, 1)\n",
        "X3_pre = data3[750:, 1:]\n",
        "X3_pre = X3_pre.reshape(420, 1, 19)\n",
        "\n",
        "X4 = data4[:750, 1:]\n",
        "X4 = X4.reshape(750, 1, 19)\n",
        "Y4 = data4[:750, 0]\n",
        "Y4 = Y4.reshape(750, 1)\n",
        "X4_pre = data4[750:, 1:]\n",
        "X4_pre = X4_pre.reshape(420, 1, 19)\n",
        "\n",
        "X5 = data5[:750, 1:]\n",
        "X5 = X5.reshape(750, 1, 19)\n",
        "Y5 = data5[:750, 0]\n",
        "Y5 = Y5.reshape(750, 1)\n",
        "X5_pre = data5[750:, 1:]\n",
        "X5_pre = X5_pre.reshape(420, 1, 19)"
      ],
      "metadata": {
        "id": "yHwn79xTp7BD"
      },
      "id": "yHwn79xTp7BD",
      "execution_count": 13,
      "outputs": []
    },
    {
      "cell_type": "code",
      "source": [
        "print(X1.shape, Y1.shape, X1_pre.shape)"
      ],
      "metadata": {
        "colab": {
          "base_uri": "https://localhost:8080/"
        },
        "id": "gfJxX6q9qYyf",
        "outputId": "b35062c3-7a7d-42c0-d302-5e6db340f7fa"
      },
      "id": "gfJxX6q9qYyf",
      "execution_count": 14,
      "outputs": [
        {
          "output_type": "stream",
          "name": "stdout",
          "text": [
            "(750, 1, 19) (750, 1) (420, 1, 19)\n"
          ]
        }
      ]
    },
    {
      "cell_type": "code",
      "execution_count": 15,
      "id": "ed113ef3",
      "metadata": {
        "id": "ed113ef3"
      },
      "outputs": [],
      "source": [
        "train_x1 = X1[:540, :, :]\n",
        "train_y1 = Y1[:540, :]\n",
        "test_x1 = X1[540:, :, :]\n",
        "test_y1 = Y1[540:, :]"
      ]
    },
    {
      "cell_type": "code",
      "execution_count": null,
      "id": "fc9fd6bc",
      "metadata": {
        "colab": {
          "base_uri": "https://localhost:8080/"
        },
        "id": "fc9fd6bc",
        "outputId": "df486204-4dab-447d-e93b-1325e38a8676"
      },
      "outputs": [
        {
          "output_type": "execute_result",
          "data": {
            "text/plain": [
              "(540, 1, 19)"
            ]
          },
          "metadata": {},
          "execution_count": 16
        }
      ],
      "source": [
        "train_x1.shape"
      ]
    },
    {
      "cell_type": "code",
      "execution_count": null,
      "id": "b3baa3a0",
      "metadata": {
        "colab": {
          "base_uri": "https://localhost:8080/"
        },
        "id": "b3baa3a0",
        "outputId": "9fc2b6b0-55c3-4d99-beea-528e8fdcde28"
      },
      "outputs": [
        {
          "output_type": "execute_result",
          "data": {
            "text/plain": [
              "(540, 1)"
            ]
          },
          "metadata": {},
          "execution_count": 17
        }
      ],
      "source": [
        "train_y1.shape"
      ]
    },
    {
      "cell_type": "code",
      "execution_count": null,
      "id": "53f63fc4",
      "metadata": {
        "colab": {
          "base_uri": "https://localhost:8080/"
        },
        "id": "53f63fc4",
        "outputId": "c977b6fa-e025-46c2-e06e-bb13ec4c925e"
      },
      "outputs": [
        {
          "output_type": "execute_result",
          "data": {
            "text/plain": [
              "(210, 1, 19)"
            ]
          },
          "metadata": {},
          "execution_count": 18
        }
      ],
      "source": [
        "test_x1.shape"
      ]
    },
    {
      "cell_type": "code",
      "execution_count": null,
      "id": "4bc6461c",
      "metadata": {
        "colab": {
          "base_uri": "https://localhost:8080/"
        },
        "id": "4bc6461c",
        "outputId": "7df3f9b1-3b29-4df1-84fd-d11d2f17af72"
      },
      "outputs": [
        {
          "output_type": "execute_result",
          "data": {
            "text/plain": [
              "(210, 1)"
            ]
          },
          "metadata": {},
          "execution_count": 19
        }
      ],
      "source": [
        "test_y1.shape"
      ]
    },
    {
      "cell_type": "markdown",
      "id": "8a168baa",
      "metadata": {
        "id": "8a168baa"
      },
      "source": [
        "# 转张量"
      ]
    },
    {
      "cell_type": "code",
      "execution_count": 16,
      "id": "e1ba1f12",
      "metadata": {
        "id": "e1ba1f12"
      },
      "outputs": [],
      "source": [
        "train_x1 = torch.from_numpy(train_x1.astype(np.float32))\n",
        "train_y1 = torch.from_numpy(train_y1.astype(np.float32))\n",
        "test_x1 = torch.from_numpy(test_x1.astype(np.float32))\n",
        "test_y1 = torch.from_numpy(test_y1.astype(np.float32))\n",
        "\n",
        "pre_x1 = torch.from_numpy(X1_pre.astype(np.float32))\n",
        "pre_x2 = torch.from_numpy(X2_pre.astype(np.float32))\n",
        "pre_x3 = torch.from_numpy(X3_pre.astype(np.float32))\n",
        "pre_x4 = torch.from_numpy(X4_pre.astype(np.float32))\n",
        "pre_x5 = torch.from_numpy(X5_pre.astype(np.float32))"
      ]
    },
    {
      "cell_type": "code",
      "execution_count": null,
      "id": "e011972e",
      "metadata": {
        "colab": {
          "base_uri": "https://localhost:8080/"
        },
        "id": "e011972e",
        "outputId": "2087c858-360d-4fcf-df6a-26eb3154811b"
      },
      "outputs": [
        {
          "output_type": "execute_result",
          "data": {
            "text/plain": [
              "torch.Size([540, 1, 19])"
            ]
          },
          "metadata": {},
          "execution_count": 21
        }
      ],
      "source": [
        "train_x1.shape"
      ]
    },
    {
      "cell_type": "code",
      "execution_count": null,
      "id": "cf32849f",
      "metadata": {
        "colab": {
          "base_uri": "https://localhost:8080/"
        },
        "id": "cf32849f",
        "outputId": "6267ec40-26bd-46ca-d91a-d4cd8e301395"
      },
      "outputs": [
        {
          "output_type": "execute_result",
          "data": {
            "text/plain": [
              "torch.Tensor"
            ]
          },
          "metadata": {},
          "execution_count": 22
        }
      ],
      "source": [
        "type(train_x1)"
      ]
    },
    {
      "cell_type": "code",
      "execution_count": 17,
      "id": "qj8m9iIPjumC",
      "metadata": {
        "id": "qj8m9iIPjumC"
      },
      "outputs": [],
      "source": [
        "train_x1, train_y1 = train_x1.to(device), train_y1.to(device)\n",
        "test_x1, test_y1 = test_x1.to(device), test_y1.to(device)\n",
        "pre_x1, pre_x2, pre_x3, pre_x4, pre_x5 = pre_x1.to(device), pre_x2.to(device), pre_x3.to(device), pre_x4.to(device), pre_x5.to(device)"
      ]
    },
    {
      "cell_type": "code",
      "execution_count": 18,
      "id": "973f2609",
      "metadata": {
        "id": "973f2609"
      },
      "outputs": [],
      "source": [
        "# 数据装入\n",
        "def data_generator(x_train,y_train,x_test,y_test,n_iters,batch_size):\n",
        "\n",
        "    num_epochs=n_iters/(len(x_train)/batch_size) # n_iters代表一次迭代\n",
        "    num_epochs=int(num_epochs)\n",
        "    train_dataset=Data.TensorDataset(x_train,y_train)\n",
        "    test_dataset=Data.TensorDataset(x_train,y_train)\n",
        "    train_loader=torch.utils.data.DataLoader(dataset=train_dataset,batch_size=batch_size,shuffle=False,drop_last=True) # 加载数据集,使数据集可迭代\n",
        "    test_loader=torch.utils.data.DataLoader(dataset=test_dataset,batch_size=batch_size,shuffle=False,drop_last=True)\n",
        "\n",
        "    return train_loader,test_loader,num_epochs"
      ]
    },
    {
      "cell_type": "markdown",
      "id": "05a6acb4",
      "metadata": {
        "id": "05a6acb4"
      },
      "source": [
        "# 神经网络搭建"
      ]
    },
    {
      "cell_type": "markdown",
      "id": "Cx9OHj2gz6hT",
      "metadata": {
        "id": "Cx9OHj2gz6hT"
      },
      "source": [
        "## Lstm-Cnn"
      ]
    },
    {
      "cell_type": "code",
      "execution_count": 91,
      "id": "0b183034",
      "metadata": {
        "id": "0b183034"
      },
      "outputs": [],
      "source": [
        "# 定义模型\n",
        "from turtle import forward\n",
        "import torch.nn as nn\n",
        "import torch.nn.functional as F\n",
        "\n",
        "# 定义一个类\n",
        "class LstmCnn(nn.Module):\n",
        "    def __init__(self,in_channels,hidden_size,num_layers,output_size,batch_size,kernel_size) -> None:\n",
        "        super(LstmCnn,self).__init__()\n",
        "        self.in_channels=in_channels\n",
        "        self.hidden_size=hidden_size\n",
        "        self.num_layers=num_layers\n",
        "        self.output_size=output_size\n",
        "        self.batch_size=batch_size\n",
        "        self.kernel_size=kernel_size\n",
        "        self.num_directions=1 # 单向LSTM\n",
        "        self.relu = nn.ReLU(inplace=True)\n",
        "        self.lstm=nn.LSTM(input_size=self.in_channels,hidden_size=hidden_size,num_layers=num_layers,batch_first=True)\n",
        "        self.conv1=nn.Sequential(\n",
        "            #nn.Dropout(0.1),\n",
        "            nn.Conv1d(in_channels=1, out_channels=4, kernel_size=1), #shape(64,3,32)  ->(64,64,30)\n",
        "            #nn.BatchNorm1d(num_features=16),\n",
        "            nn.ReLU(),\n",
        "            #nn.BatchNorm1d(num_features=16),\n",
        "            nn.AvgPool1d(kernel_size=self.kernel_size)\n",
        "        )\n",
        "        self.conv2=nn.Sequential(\n",
        "            #nn.Dropout(0.1),\n",
        "            nn.Conv1d(in_channels=4, out_channels=16, kernel_size=1), #shape(64,64,30)  ->(64,64,28)\n",
        "            #nn.BatchNorm1d(num_features=64),\n",
        "            nn.ReLU(),\n",
        "            #nn.BatchNorm1d(num_features=64),\n",
        "            nn.AvgPool1d(kernel_size=self.kernel_size))#shape(16,64,28)  ->(16,64,14)\n",
        "\n",
        "        self.conv3=nn.Sequential(\n",
        "            #nn.Dropout(0.1),\n",
        "            nn.Conv1d(in_channels=16, out_channels=64, kernel_size=1), #shape(64,64,14)  ->(64,128,12)\n",
        "            #nn.BatchNorm1d(num_features=128),\n",
        "            nn.ReLU(),\n",
        "            #nn.BatchNorm1d(num_features=128),\n",
        "            nn.AvgPool1d(kernel_size=self.kernel_size)\n",
        "        )\n",
        "        self.conv4=nn.Sequential(\n",
        "            #nn.Dropout(0.1),\n",
        "            nn.Conv1d(in_channels=64, out_channels=128, kernel_size=1), #shape(64,128,12)  ->(64,128,10)\n",
        "            #nn.BatchNorm1d(num_features=256),\n",
        "            nn.ReLU(),\n",
        "            #nn.BatchNorm1d(num_features=256),\n",
        "            nn.AvgPool1d(kernel_size=self.kernel_size) #shape(16,128,10)  ->(16,128,5)\n",
        "        )\n",
        "        self.conv5=nn.Sequential(\n",
        "            #nn.Dropout(0.1),\n",
        "            nn.Conv1d(in_channels=128, out_channels=256, kernel_size=1), #shape(64,128,12)  ->(64,128,10)\n",
        "            #nn.BatchNorm1d(num_features=128),\n",
        "            nn.ReLU(),\n",
        "            #nn.BatchNorm1d(num_features=128),\n",
        "            nn.AvgPool1d(kernel_size=self.kernel_size) #shape(16,128,10)  ->(16,128,5)\n",
        "        )\n",
        "        self.conv6=nn.Sequential(\n",
        "            #nn.Dropout(0.1),\n",
        "            nn.Conv1d(in_channels=256, out_channels=256, kernel_size=1), #shape(64,128,12)  ->(64,128,10)\n",
        "            #nn.BatchNorm1d(num_features=128),\n",
        "            nn.ReLU(),\n",
        "            #nn.BatchNorm1d(num_features=128),\n",
        "            nn.AvgPool1d(kernel_size=self.kernel_size) #shape(16,128,10)  ->(16,128,5)\n",
        "        )\n",
        "        self.conv7=nn.Sequential(\n",
        "            #nn.Dropout(0.2),\n",
        "            nn.Conv1d(in_channels=256, out_channels=512, kernel_size=1), #shape(64,128,12)  ->(64,128,10)\n",
        "            #nn.BatchNorm1d(num_features=128),\n",
        "            nn.ReLU(),\n",
        "            #nn.BatchNorm1d(num_features=128),\n",
        "            nn.AvgPool1d(kernel_size=self.kernel_size) #shape(16,128,10)  ->(16,128,5)\n",
        "        )\n",
        "        self.conv8=nn.Sequential(\n",
        "            #nn.Dropout(0.2),\n",
        "            nn.Conv1d(in_channels=512, out_channels=512, kernel_size=1), #shape(64,128,12)  ->(64,128,10)\n",
        "            #nn.BatchNorm1d(num_features=128),\n",
        "            nn.ReLU(),\n",
        "            #nn.BatchNorm1d(num_features=128),\n",
        "            nn.AvgPool1d(kernel_size=self.kernel_size) #shape(16,128,10)  ->(16,128,5)\n",
        "        )\n",
        "        self.conv9=nn.Sequential(\n",
        "            #nn.Dropout(0.2),\n",
        "            nn.Conv1d(in_channels=512, out_channels=1024, kernel_size=1), #shape(64,128,12)  ->(64,128,10)\n",
        "            #nn.BatchNorm1d(num_features=128),\n",
        "            nn.ReLU(),\n",
        "            #nn.BatchNorm1d(num_features=128),\n",
        "            nn.AvgPool1d(kernel_size=self.kernel_size) #shape(16,128,10)  ->(16,128,5)\n",
        "        )\n",
        "        self.conv10=nn.Sequential(\n",
        "            #nn.Dropout(0.2),\n",
        "            nn.Conv1d(in_channels=1024, out_channels=1024, kernel_size=1), #shape(64,128,12)  ->(64,128,10)\n",
        "            #nn.BatchNorm1d(num_features=128),\n",
        "            nn.ReLU(),\n",
        "            #nn.BatchNorm1d(num_features=128),\n",
        "            nn.AvgPool1d(kernel_size=self.kernel_size) #shape(16,128,10)  ->(16,128,5)\n",
        "        )\n",
        "\n",
        "        self.fc = nn.Sequential(\n",
        "            nn.Linear(1024*19, 256),\n",
        "            nn.ReLU(),\n",
        "            #nn.Dropout(0.2),\n",
        "            nn.Linear(256, 64),\n",
        "            nn.ReLU(),\n",
        "            #nn.Dropout(0.6),\n",
        "            #nn.Linear(64, 16),\n",
        "            #nn.ReLU(),\n",
        "            #nn.Linear(16, 16),\n",
        "            #nn.ReLU(),\n",
        "            nn.Linear(64, output_size)\n",
        "        )\n",
        "        self.fc1 = nn.Linear(16*18, output_size)\n",
        "\n",
        "\n",
        "\n",
        "    def forward(self,x):\n",
        "        # input(462, 3, 16) batch=64\n",
        "        #h_0 = torch.randn(self.num_directions * self.num_layers, x.size(0), self.hidden_size).to(device)\n",
        "        #c_0 = torch.randn(self.num_directions * self.num_layers, x.size(0), self.hidden_size).to(device)\n",
        "        #x, _ = self.lstm(x, (h_0, c_0))  # output(64, 3, 32)\n",
        "        #print(x.shape)\n",
        "        x=self.conv1(x)\n",
        "        x=self.conv2(x)\n",
        "        x=self.conv3(x)\n",
        "        x=self.conv4(x)\n",
        "        x=self.conv5(x)\n",
        "        x=self.conv6(x)\n",
        "        x=self.conv7(x)\n",
        "        x=self.conv8(x)\n",
        "        x=self.conv9(x)\n",
        "        x=self.conv10(x)\n",
        "        x=x.view(-1, 1024*19)\n",
        "        pred = self.fc(x)  # (30, 17, 1)\n",
        "        #print(pred.shape)\n",
        "        #pred = pred[:, -1, :]  # (30, 1)\n",
        "        return pred"
      ]
    },
    {
      "cell_type": "markdown",
      "id": "0iNmPST2CxZ4",
      "metadata": {
        "id": "0iNmPST2CxZ4"
      },
      "source": [
        "# 开始训练"
      ]
    },
    {
      "cell_type": "markdown",
      "id": "4hRRoH5MCzNd",
      "metadata": {
        "id": "4hRRoH5MCzNd"
      },
      "source": [
        "## Lstm-Cnn"
      ]
    },
    {
      "cell_type": "code",
      "execution_count": 229,
      "id": "560d5286",
      "metadata": {
        "colab": {
          "base_uri": "https://localhost:8080/"
        },
        "id": "560d5286",
        "outputId": "116347f8-ae14-4f88-bf41-6e591e3d6550",
        "scrolled": true
      },
      "outputs": [
        {
          "output_type": "stream",
          "name": "stdout",
          "text": [
            "LstmCnn(\n",
            "  (relu): ReLU(inplace=True)\n",
            "  (lstm): LSTM(18, 32, num_layers=3, batch_first=True)\n",
            "  (conv1): Sequential(\n",
            "    (0): Conv1d(1, 4, kernel_size=(1,), stride=(1,))\n",
            "    (1): ReLU()\n",
            "    (2): AvgPool1d(kernel_size=(1,), stride=(1,), padding=(0,))\n",
            "  )\n",
            "  (conv2): Sequential(\n",
            "    (0): Conv1d(4, 16, kernel_size=(1,), stride=(1,))\n",
            "    (1): ReLU()\n",
            "    (2): AvgPool1d(kernel_size=(1,), stride=(1,), padding=(0,))\n",
            "  )\n",
            "  (conv3): Sequential(\n",
            "    (0): Conv1d(16, 64, kernel_size=(1,), stride=(1,))\n",
            "    (1): ReLU()\n",
            "    (2): AvgPool1d(kernel_size=(1,), stride=(1,), padding=(0,))\n",
            "  )\n",
            "  (conv4): Sequential(\n",
            "    (0): Conv1d(64, 128, kernel_size=(1,), stride=(1,))\n",
            "    (1): ReLU()\n",
            "    (2): AvgPool1d(kernel_size=(1,), stride=(1,), padding=(0,))\n",
            "  )\n",
            "  (conv5): Sequential(\n",
            "    (0): Conv1d(128, 256, kernel_size=(1,), stride=(1,))\n",
            "    (1): ReLU()\n",
            "    (2): AvgPool1d(kernel_size=(1,), stride=(1,), padding=(0,))\n",
            "  )\n",
            "  (conv6): Sequential(\n",
            "    (0): Conv1d(256, 256, kernel_size=(1,), stride=(1,))\n",
            "    (1): ReLU()\n",
            "    (2): AvgPool1d(kernel_size=(1,), stride=(1,), padding=(0,))\n",
            "  )\n",
            "  (conv7): Sequential(\n",
            "    (0): Conv1d(256, 512, kernel_size=(1,), stride=(1,))\n",
            "    (1): ReLU()\n",
            "    (2): AvgPool1d(kernel_size=(1,), stride=(1,), padding=(0,))\n",
            "  )\n",
            "  (conv8): Sequential(\n",
            "    (0): Conv1d(512, 512, kernel_size=(1,), stride=(1,))\n",
            "    (1): ReLU()\n",
            "    (2): AvgPool1d(kernel_size=(1,), stride=(1,), padding=(0,))\n",
            "  )\n",
            "  (conv9): Sequential(\n",
            "    (0): Conv1d(512, 1024, kernel_size=(1,), stride=(1,))\n",
            "    (1): ReLU()\n",
            "    (2): AvgPool1d(kernel_size=(1,), stride=(1,), padding=(0,))\n",
            "  )\n",
            "  (conv10): Sequential(\n",
            "    (0): Conv1d(1024, 1024, kernel_size=(1,), stride=(1,))\n",
            "    (1): ReLU()\n",
            "    (2): AvgPool1d(kernel_size=(1,), stride=(1,), padding=(0,))\n",
            "  )\n",
            "  (fc): Sequential(\n",
            "    (0): Linear(in_features=19456, out_features=256, bias=True)\n",
            "    (1): ReLU()\n",
            "    (2): Linear(in_features=256, out_features=64, bias=True)\n",
            "    (3): ReLU()\n",
            "    (4): Linear(in_features=64, out_features=1, bias=True)\n",
            "  )\n",
            "  (fc1): Linear(in_features=288, out_features=1, bias=True)\n",
            ")\n"
          ]
        }
      ],
      "source": [
        "# 参数设置\n",
        "in_channels=18\n",
        "num_layers=3\n",
        "hidden_size=32\n",
        "batch_size=30\n",
        "kernel_size=1\n",
        "n_iters=30000\n",
        "lr=0.0001\n",
        "output_size=1\n",
        "moudle4 = LstmCnn(in_channels,hidden_size,num_layers,output_size,batch_size,kernel_size)\n",
        "moudle4 = moudle4.to(device)\n",
        "criterion=torch.nn.MSELoss()\n",
        "optimizer4=torch.optim.AdamW(moudle4.parameters(),lr=lr,weight_decay=0.001)\n",
        "print(moudle4)"
      ]
    },
    {
      "cell_type": "code",
      "execution_count": 230,
      "id": "f7517eed",
      "metadata": {
        "id": "f7517eed"
      },
      "outputs": [],
      "source": [
        "train_loader,test_loader,num_epochs = data_generator(train_x1,train_y1,test_x1,test_y1,n_iters,batch_size)"
      ]
    },
    {
      "cell_type": "code",
      "execution_count": 231,
      "id": "d635a749",
      "metadata": {
        "colab": {
          "base_uri": "https://localhost:8080/"
        },
        "id": "d635a749",
        "outputId": "f15d7a7f-e9c9-4a44-d927-a854b804801f",
        "scrolled": true
      },
      "outputs": [
        {
          "output_type": "stream",
          "name": "stderr",
          "text": [
            "  0%|          | 6/1666 [00:00<04:00,  6.90it/s]"
          ]
        },
        {
          "output_type": "stream",
          "name": "stdout",
          "text": [
            "epoch: 1, loss: 6768.91016\n"
          ]
        },
        {
          "output_type": "stream",
          "name": "stderr",
          "text": [
            "  1%|          | 12/1666 [00:01<04:02,  6.82it/s]"
          ]
        },
        {
          "output_type": "stream",
          "name": "stdout",
          "text": [
            "epoch: 2, loss: 4981.15137\n"
          ]
        },
        {
          "output_type": "stream",
          "name": "stderr",
          "text": [
            "  1%|          | 18/1666 [00:02<04:04,  6.73it/s]"
          ]
        },
        {
          "output_type": "stream",
          "name": "stdout",
          "text": [
            "epoch: 3, loss: 10130.11133\n"
          ]
        },
        {
          "output_type": "stream",
          "name": "stderr",
          "text": [
            "  1%|▏         | 23/1666 [00:03<04:04,  6.72it/s]"
          ]
        },
        {
          "output_type": "stream",
          "name": "stdout",
          "text": [
            "epoch: 4, loss: 5444.85254\n"
          ]
        },
        {
          "output_type": "stream",
          "name": "stderr",
          "text": [
            "  2%|▏         | 29/1666 [00:04<03:55,  6.96it/s]"
          ]
        },
        {
          "output_type": "stream",
          "name": "stdout",
          "text": [
            "epoch: 5, loss: 13886.52734\n"
          ]
        },
        {
          "output_type": "stream",
          "name": "stderr",
          "text": [
            "  2%|▏         | 34/1666 [00:04<03:52,  7.02it/s]"
          ]
        },
        {
          "output_type": "stream",
          "name": "stdout",
          "text": [
            "epoch: 6, loss: 4429.17188\n"
          ]
        },
        {
          "output_type": "stream",
          "name": "stderr",
          "text": [
            "  2%|▏         | 40/1666 [00:05<03:50,  7.07it/s]"
          ]
        },
        {
          "output_type": "stream",
          "name": "stdout",
          "text": [
            "epoch: 7, loss: 17518.46289\n"
          ]
        },
        {
          "output_type": "stream",
          "name": "stderr",
          "text": [
            "  3%|▎         | 45/1666 [00:06<03:49,  7.06it/s]"
          ]
        },
        {
          "output_type": "stream",
          "name": "stdout",
          "text": [
            "epoch: 8, loss: 3051.81787\n"
          ]
        },
        {
          "output_type": "stream",
          "name": "stderr",
          "text": [
            "  3%|▎         | 51/1666 [00:07<03:48,  7.06it/s]"
          ]
        },
        {
          "output_type": "stream",
          "name": "stdout",
          "text": [
            "epoch: 9, loss: 14420.89062\n"
          ]
        },
        {
          "output_type": "stream",
          "name": "stderr",
          "text": [
            "  3%|▎         | 56/1666 [00:08<03:48,  7.03it/s]"
          ]
        },
        {
          "output_type": "stream",
          "name": "stdout",
          "text": [
            "epoch: 10, loss: 5136.86914\n"
          ]
        },
        {
          "output_type": "stream",
          "name": "stderr",
          "text": [
            "  4%|▎         | 62/1666 [00:08<03:47,  7.06it/s]"
          ]
        },
        {
          "output_type": "stream",
          "name": "stdout",
          "text": [
            "epoch: 11, loss: 4217.08447\n"
          ]
        },
        {
          "output_type": "stream",
          "name": "stderr",
          "text": [
            "  4%|▍         | 68/1666 [00:09<03:46,  7.04it/s]"
          ]
        },
        {
          "output_type": "stream",
          "name": "stdout",
          "text": [
            "epoch: 12, loss: 8152.91064\n"
          ]
        },
        {
          "output_type": "stream",
          "name": "stderr",
          "text": [
            "  4%|▍         | 73/1666 [00:10<03:46,  7.02it/s]"
          ]
        },
        {
          "output_type": "stream",
          "name": "stdout",
          "text": [
            "epoch: 13, loss: 4950.14404\n"
          ]
        },
        {
          "output_type": "stream",
          "name": "stderr",
          "text": [
            "  5%|▍         | 79/1666 [00:11<03:45,  7.04it/s]"
          ]
        },
        {
          "output_type": "stream",
          "name": "stdout",
          "text": [
            "epoch: 14, loss: 11852.38379\n"
          ]
        },
        {
          "output_type": "stream",
          "name": "stderr",
          "text": [
            "  5%|▌         | 84/1666 [00:12<03:44,  7.03it/s]"
          ]
        },
        {
          "output_type": "stream",
          "name": "stdout",
          "text": [
            "epoch: 15, loss: 4178.49023\n"
          ]
        },
        {
          "output_type": "stream",
          "name": "stderr",
          "text": [
            "  5%|▌         | 90/1666 [00:12<03:46,  6.95it/s]"
          ]
        },
        {
          "output_type": "stream",
          "name": "stdout",
          "text": [
            "epoch: 16, loss: 14611.02539\n"
          ]
        },
        {
          "output_type": "stream",
          "name": "stderr",
          "text": [
            "  6%|▌         | 95/1666 [00:13<03:54,  6.71it/s]"
          ]
        },
        {
          "output_type": "stream",
          "name": "stdout",
          "text": [
            "epoch: 17, loss: 2780.27295\n"
          ]
        },
        {
          "output_type": "stream",
          "name": "stderr",
          "text": [
            "  6%|▌         | 101/1666 [00:14<04:02,  6.46it/s]"
          ]
        },
        {
          "output_type": "stream",
          "name": "stdout",
          "text": [
            "epoch: 18, loss: 10754.86426\n"
          ]
        },
        {
          "output_type": "stream",
          "name": "stderr",
          "text": [
            "  6%|▋         | 106/1666 [00:15<04:05,  6.36it/s]"
          ]
        },
        {
          "output_type": "stream",
          "name": "stdout",
          "text": [
            "epoch: 19, loss: 4123.91309\n"
          ]
        },
        {
          "output_type": "stream",
          "name": "stderr",
          "text": [
            "  7%|▋         | 112/1666 [00:16<03:59,  6.49it/s]"
          ]
        },
        {
          "output_type": "stream",
          "name": "stdout",
          "text": [
            "epoch: 20, loss: 3109.95068\n"
          ]
        },
        {
          "output_type": "stream",
          "name": "stderr",
          "text": [
            "  7%|▋         | 117/1666 [00:17<03:49,  6.74it/s]"
          ]
        },
        {
          "output_type": "stream",
          "name": "stdout",
          "text": [
            "epoch: 21, loss: 6278.57422\n"
          ]
        },
        {
          "output_type": "stream",
          "name": "stderr",
          "text": [
            "  7%|▋         | 123/1666 [00:18<04:04,  6.30it/s]"
          ]
        },
        {
          "output_type": "stream",
          "name": "stdout",
          "text": [
            "epoch: 22, loss: 4040.33252\n"
          ]
        },
        {
          "output_type": "stream",
          "name": "stderr",
          "text": [
            "  8%|▊         | 129/1666 [00:18<03:46,  6.77it/s]"
          ]
        },
        {
          "output_type": "stream",
          "name": "stdout",
          "text": [
            "epoch: 23, loss: 7989.26709\n"
          ]
        },
        {
          "output_type": "stream",
          "name": "stderr",
          "text": [
            "  8%|▊         | 134/1666 [00:19<03:42,  6.88it/s]"
          ]
        },
        {
          "output_type": "stream",
          "name": "stdout",
          "text": [
            "epoch: 24, loss: 3574.51782\n"
          ]
        },
        {
          "output_type": "stream",
          "name": "stderr",
          "text": [
            "  8%|▊         | 140/1666 [00:20<03:39,  6.96it/s]"
          ]
        },
        {
          "output_type": "stream",
          "name": "stdout",
          "text": [
            "epoch: 25, loss: 7979.69141\n"
          ]
        },
        {
          "output_type": "stream",
          "name": "stderr",
          "text": [
            "  9%|▊         | 145/1666 [00:21<03:38,  6.96it/s]"
          ]
        },
        {
          "output_type": "stream",
          "name": "stdout",
          "text": [
            "epoch: 26, loss: 1804.72888\n"
          ]
        },
        {
          "output_type": "stream",
          "name": "stderr",
          "text": [
            "  9%|▉         | 151/1666 [00:22<03:38,  6.95it/s]"
          ]
        },
        {
          "output_type": "stream",
          "name": "stdout",
          "text": [
            "epoch: 27, loss: 6157.16699\n"
          ]
        },
        {
          "output_type": "stream",
          "name": "stderr",
          "text": [
            "  9%|▉         | 156/1666 [00:22<03:38,  6.92it/s]"
          ]
        },
        {
          "output_type": "stream",
          "name": "stdout",
          "text": [
            "epoch: 28, loss: 3337.06519\n"
          ]
        },
        {
          "output_type": "stream",
          "name": "stderr",
          "text": [
            " 10%|▉         | 162/1666 [00:23<03:36,  6.93it/s]"
          ]
        },
        {
          "output_type": "stream",
          "name": "stdout",
          "text": [
            "epoch: 29, loss: 1840.45032\n"
          ]
        },
        {
          "output_type": "stream",
          "name": "stderr",
          "text": [
            " 10%|█         | 168/1666 [00:24<03:35,  6.95it/s]"
          ]
        },
        {
          "output_type": "stream",
          "name": "stdout",
          "text": [
            "epoch: 30, loss: 3852.01904\n"
          ]
        },
        {
          "output_type": "stream",
          "name": "stderr",
          "text": [
            " 10%|█         | 173/1666 [00:25<03:35,  6.93it/s]"
          ]
        },
        {
          "output_type": "stream",
          "name": "stdout",
          "text": [
            "epoch: 31, loss: 2089.36279\n"
          ]
        },
        {
          "output_type": "stream",
          "name": "stderr",
          "text": [
            " 11%|█         | 179/1666 [00:26<03:34,  6.94it/s]"
          ]
        },
        {
          "output_type": "stream",
          "name": "stdout",
          "text": [
            "epoch: 32, loss: 3753.64429\n"
          ]
        },
        {
          "output_type": "stream",
          "name": "stderr",
          "text": [
            " 11%|█         | 184/1666 [00:26<03:34,  6.92it/s]"
          ]
        },
        {
          "output_type": "stream",
          "name": "stdout",
          "text": [
            "epoch: 33, loss: 1213.94556\n"
          ]
        },
        {
          "output_type": "stream",
          "name": "stderr",
          "text": [
            " 11%|█▏        | 190/1666 [00:27<03:33,  6.92it/s]"
          ]
        },
        {
          "output_type": "stream",
          "name": "stdout",
          "text": [
            "epoch: 34, loss: 3576.77368\n"
          ]
        },
        {
          "output_type": "stream",
          "name": "stderr",
          "text": [
            " 12%|█▏        | 195/1666 [00:28<03:33,  6.90it/s]"
          ]
        },
        {
          "output_type": "stream",
          "name": "stdout",
          "text": [
            "epoch: 35, loss: 940.97546\n"
          ]
        },
        {
          "output_type": "stream",
          "name": "stderr",
          "text": [
            " 12%|█▏        | 201/1666 [00:29<03:37,  6.75it/s]"
          ]
        },
        {
          "output_type": "stream",
          "name": "stdout",
          "text": [
            "epoch: 36, loss: 3348.91187\n"
          ]
        },
        {
          "output_type": "stream",
          "name": "stderr",
          "text": [
            " 12%|█▏        | 206/1666 [00:30<03:38,  6.68it/s]"
          ]
        },
        {
          "output_type": "stream",
          "name": "stdout",
          "text": [
            "epoch: 37, loss: 2197.30005\n"
          ]
        },
        {
          "output_type": "stream",
          "name": "stderr",
          "text": [
            " 13%|█▎        | 212/1666 [00:30<03:37,  6.68it/s]"
          ]
        },
        {
          "output_type": "stream",
          "name": "stdout",
          "text": [
            "epoch: 38, loss: 709.57977\n"
          ]
        },
        {
          "output_type": "stream",
          "name": "stderr",
          "text": [
            " 13%|█▎        | 218/1666 [00:31<03:30,  6.88it/s]"
          ]
        },
        {
          "output_type": "stream",
          "name": "stdout",
          "text": [
            "epoch: 39, loss: 1333.29358\n"
          ]
        },
        {
          "output_type": "stream",
          "name": "stderr",
          "text": [
            " 13%|█▎        | 223/1666 [00:32<03:29,  6.90it/s]"
          ]
        },
        {
          "output_type": "stream",
          "name": "stdout",
          "text": [
            "epoch: 40, loss: 847.55316\n"
          ]
        },
        {
          "output_type": "stream",
          "name": "stderr",
          "text": [
            " 14%|█▎        | 229/1666 [00:33<03:28,  6.89it/s]"
          ]
        },
        {
          "output_type": "stream",
          "name": "stdout",
          "text": [
            "epoch: 41, loss: 1519.82324\n"
          ]
        },
        {
          "output_type": "stream",
          "name": "stderr",
          "text": [
            " 14%|█▍        | 234/1666 [00:34<03:27,  6.91it/s]"
          ]
        },
        {
          "output_type": "stream",
          "name": "stdout",
          "text": [
            "epoch: 42, loss: 2908.06201\n"
          ]
        },
        {
          "output_type": "stream",
          "name": "stderr",
          "text": [
            " 14%|█▍        | 240/1666 [00:34<03:26,  6.90it/s]"
          ]
        },
        {
          "output_type": "stream",
          "name": "stdout",
          "text": [
            "epoch: 43, loss: 2212.31470\n"
          ]
        },
        {
          "output_type": "stream",
          "name": "stderr",
          "text": [
            " 15%|█▍        | 245/1666 [00:35<03:27,  6.86it/s]"
          ]
        },
        {
          "output_type": "stream",
          "name": "stdout",
          "text": [
            "epoch: 44, loss: 1218.58496\n"
          ]
        },
        {
          "output_type": "stream",
          "name": "stderr",
          "text": [
            " 15%|█▌        | 251/1666 [00:36<03:25,  6.90it/s]"
          ]
        },
        {
          "output_type": "stream",
          "name": "stdout",
          "text": [
            "epoch: 45, loss: 1585.55603\n"
          ]
        },
        {
          "output_type": "stream",
          "name": "stderr",
          "text": [
            " 15%|█▌        | 256/1666 [00:37<03:23,  6.93it/s]"
          ]
        },
        {
          "output_type": "stream",
          "name": "stdout",
          "text": [
            "epoch: 46, loss: 489.86121\n"
          ]
        },
        {
          "output_type": "stream",
          "name": "stderr",
          "text": [
            " 16%|█▌        | 262/1666 [00:38<03:21,  6.96it/s]"
          ]
        },
        {
          "output_type": "stream",
          "name": "stdout",
          "text": [
            "epoch: 47, loss: 371.45041\n"
          ]
        },
        {
          "output_type": "stream",
          "name": "stderr",
          "text": [
            " 16%|█▌        | 268/1666 [00:39<03:21,  6.95it/s]"
          ]
        },
        {
          "output_type": "stream",
          "name": "stdout",
          "text": [
            "epoch: 48, loss: 316.35458\n"
          ]
        },
        {
          "output_type": "stream",
          "name": "stderr",
          "text": [
            " 16%|█▋        | 273/1666 [00:39<03:20,  6.96it/s]"
          ]
        },
        {
          "output_type": "stream",
          "name": "stdout",
          "text": [
            "epoch: 49, loss: 149.08989\n"
          ]
        },
        {
          "output_type": "stream",
          "name": "stderr",
          "text": [
            " 17%|█▋        | 279/1666 [00:40<03:19,  6.97it/s]"
          ]
        },
        {
          "output_type": "stream",
          "name": "stdout",
          "text": [
            "epoch: 50, loss: 204.12642\n"
          ]
        },
        {
          "output_type": "stream",
          "name": "stderr",
          "text": [
            " 17%|█▋        | 284/1666 [00:41<03:22,  6.82it/s]"
          ]
        },
        {
          "output_type": "stream",
          "name": "stdout",
          "text": [
            "epoch: 51, loss: 162.18916\n"
          ]
        },
        {
          "output_type": "stream",
          "name": "stderr",
          "text": [
            " 17%|█▋        | 290/1666 [00:42<03:23,  6.77it/s]"
          ]
        },
        {
          "output_type": "stream",
          "name": "stdout",
          "text": [
            "epoch: 52, loss: 494.12769\n"
          ]
        },
        {
          "output_type": "stream",
          "name": "stderr",
          "text": [
            " 18%|█▊        | 295/1666 [00:42<03:23,  6.75it/s]"
          ]
        },
        {
          "output_type": "stream",
          "name": "stdout",
          "text": [
            "epoch: 53, loss: 144.04408\n"
          ]
        },
        {
          "output_type": "stream",
          "name": "stderr",
          "text": [
            " 18%|█▊        | 301/1666 [00:43<03:22,  6.75it/s]"
          ]
        },
        {
          "output_type": "stream",
          "name": "stdout",
          "text": [
            "epoch: 54, loss: 385.06152\n"
          ]
        },
        {
          "output_type": "stream",
          "name": "stderr",
          "text": [
            " 18%|█▊        | 306/1666 [00:44<03:16,  6.91it/s]"
          ]
        },
        {
          "output_type": "stream",
          "name": "stdout",
          "text": [
            "epoch: 55, loss: 215.22839\n"
          ]
        },
        {
          "output_type": "stream",
          "name": "stderr",
          "text": [
            " 19%|█▊        | 312/1666 [00:45<03:15,  6.93it/s]"
          ]
        },
        {
          "output_type": "stream",
          "name": "stdout",
          "text": [
            "epoch: 56, loss: 111.33868\n"
          ]
        },
        {
          "output_type": "stream",
          "name": "stderr",
          "text": [
            " 19%|█▉        | 318/1666 [00:46<03:12,  6.99it/s]"
          ]
        },
        {
          "output_type": "stream",
          "name": "stdout",
          "text": [
            "epoch: 57, loss: 725.39392\n"
          ]
        },
        {
          "output_type": "stream",
          "name": "stderr",
          "text": [
            " 19%|█▉        | 323/1666 [00:47<03:13,  6.95it/s]"
          ]
        },
        {
          "output_type": "stream",
          "name": "stdout",
          "text": [
            "epoch: 58, loss: 97.22334\n"
          ]
        },
        {
          "output_type": "stream",
          "name": "stderr",
          "text": [
            " 20%|█▉        | 329/1666 [00:47<03:12,  6.95it/s]"
          ]
        },
        {
          "output_type": "stream",
          "name": "stdout",
          "text": [
            "epoch: 59, loss: 284.37350\n"
          ]
        },
        {
          "output_type": "stream",
          "name": "stderr",
          "text": [
            " 20%|██        | 334/1666 [00:48<03:10,  6.98it/s]"
          ]
        },
        {
          "output_type": "stream",
          "name": "stdout",
          "text": [
            "epoch: 60, loss: 80.03337\n"
          ]
        },
        {
          "output_type": "stream",
          "name": "stderr",
          "text": [
            " 20%|██        | 340/1666 [00:49<03:11,  6.92it/s]"
          ]
        },
        {
          "output_type": "stream",
          "name": "stdout",
          "text": [
            "epoch: 61, loss: 880.12531\n"
          ]
        },
        {
          "output_type": "stream",
          "name": "stderr",
          "text": [
            " 21%|██        | 345/1666 [00:50<03:10,  6.93it/s]"
          ]
        },
        {
          "output_type": "stream",
          "name": "stdout",
          "text": [
            "epoch: 62, loss: 306.38901\n"
          ]
        },
        {
          "output_type": "stream",
          "name": "stderr",
          "text": [
            " 21%|██        | 351/1666 [00:51<03:09,  6.95it/s]"
          ]
        },
        {
          "output_type": "stream",
          "name": "stdout",
          "text": [
            "epoch: 63, loss: 2430.66284\n"
          ]
        },
        {
          "output_type": "stream",
          "name": "stderr",
          "text": [
            " 21%|██▏       | 356/1666 [00:51<03:07,  6.97it/s]"
          ]
        },
        {
          "output_type": "stream",
          "name": "stdout",
          "text": [
            "epoch: 64, loss: 3987.05273\n"
          ]
        },
        {
          "output_type": "stream",
          "name": "stderr",
          "text": [
            " 22%|██▏       | 362/1666 [00:52<03:08,  6.92it/s]"
          ]
        },
        {
          "output_type": "stream",
          "name": "stdout",
          "text": [
            "epoch: 65, loss: 280.71042\n"
          ]
        },
        {
          "output_type": "stream",
          "name": "stderr",
          "text": [
            " 22%|██▏       | 368/1666 [00:53<03:06,  6.97it/s]"
          ]
        },
        {
          "output_type": "stream",
          "name": "stdout",
          "text": [
            "epoch: 66, loss: 790.04620\n"
          ]
        },
        {
          "output_type": "stream",
          "name": "stderr",
          "text": [
            " 22%|██▏       | 373/1666 [00:54<03:09,  6.82it/s]"
          ]
        },
        {
          "output_type": "stream",
          "name": "stdout",
          "text": [
            "epoch: 67, loss: 233.07179\n"
          ]
        },
        {
          "output_type": "stream",
          "name": "stderr",
          "text": [
            " 23%|██▎       | 379/1666 [00:55<03:11,  6.71it/s]"
          ]
        },
        {
          "output_type": "stream",
          "name": "stdout",
          "text": [
            "epoch: 68, loss: 154.18092\n"
          ]
        },
        {
          "output_type": "stream",
          "name": "stderr",
          "text": [
            " 23%|██▎       | 384/1666 [00:55<03:08,  6.79it/s]"
          ]
        },
        {
          "output_type": "stream",
          "name": "stdout",
          "text": [
            "epoch: 69, loss: 97.41554\n"
          ]
        },
        {
          "output_type": "stream",
          "name": "stderr",
          "text": [
            " 23%|██▎       | 390/1666 [00:56<03:06,  6.83it/s]"
          ]
        },
        {
          "output_type": "stream",
          "name": "stdout",
          "text": [
            "epoch: 70, loss: 1141.96521\n"
          ]
        },
        {
          "output_type": "stream",
          "name": "stderr",
          "text": [
            " 24%|██▎       | 395/1666 [00:57<03:02,  6.95it/s]"
          ]
        },
        {
          "output_type": "stream",
          "name": "stdout",
          "text": [
            "epoch: 71, loss: 796.61847\n"
          ]
        },
        {
          "output_type": "stream",
          "name": "stderr",
          "text": [
            " 24%|██▍       | 401/1666 [00:58<03:02,  6.94it/s]"
          ]
        },
        {
          "output_type": "stream",
          "name": "stdout",
          "text": [
            "epoch: 72, loss: 578.70093\n"
          ]
        },
        {
          "output_type": "stream",
          "name": "stderr",
          "text": [
            " 24%|██▍       | 406/1666 [00:59<03:01,  6.95it/s]"
          ]
        },
        {
          "output_type": "stream",
          "name": "stdout",
          "text": [
            "epoch: 73, loss: 4560.05859\n"
          ]
        },
        {
          "output_type": "stream",
          "name": "stderr",
          "text": [
            " 25%|██▍       | 412/1666 [00:59<02:59,  6.97it/s]"
          ]
        },
        {
          "output_type": "stream",
          "name": "stdout",
          "text": [
            "epoch: 74, loss: 69.23727\n"
          ]
        },
        {
          "output_type": "stream",
          "name": "stderr",
          "text": [
            " 25%|██▌       | 418/1666 [01:00<02:58,  7.00it/s]"
          ]
        },
        {
          "output_type": "stream",
          "name": "stdout",
          "text": [
            "epoch: 75, loss: 412.69891\n"
          ]
        },
        {
          "output_type": "stream",
          "name": "stderr",
          "text": [
            " 25%|██▌       | 423/1666 [01:01<02:57,  7.02it/s]"
          ]
        },
        {
          "output_type": "stream",
          "name": "stdout",
          "text": [
            "epoch: 76, loss: 201.80473\n"
          ]
        },
        {
          "output_type": "stream",
          "name": "stderr",
          "text": [
            " 26%|██▌       | 429/1666 [01:02<02:56,  7.00it/s]"
          ]
        },
        {
          "output_type": "stream",
          "name": "stdout",
          "text": [
            "epoch: 77, loss: 244.10323\n"
          ]
        },
        {
          "output_type": "stream",
          "name": "stderr",
          "text": [
            " 26%|██▌       | 434/1666 [01:03<02:56,  6.99it/s]"
          ]
        },
        {
          "output_type": "stream",
          "name": "stdout",
          "text": [
            "epoch: 78, loss: 87.10719\n"
          ]
        },
        {
          "output_type": "stream",
          "name": "stderr",
          "text": [
            " 26%|██▋       | 440/1666 [01:03<02:54,  7.02it/s]"
          ]
        },
        {
          "output_type": "stream",
          "name": "stdout",
          "text": [
            "epoch: 79, loss: 188.09262\n"
          ]
        },
        {
          "output_type": "stream",
          "name": "stderr",
          "text": [
            " 27%|██▋       | 445/1666 [01:04<02:53,  7.03it/s]"
          ]
        },
        {
          "output_type": "stream",
          "name": "stdout",
          "text": [
            "epoch: 80, loss: 277.30142\n"
          ]
        },
        {
          "output_type": "stream",
          "name": "stderr",
          "text": [
            " 27%|██▋       | 451/1666 [01:05<02:54,  6.97it/s]"
          ]
        },
        {
          "output_type": "stream",
          "name": "stdout",
          "text": [
            "epoch: 81, loss: 278.34488\n"
          ]
        },
        {
          "output_type": "stream",
          "name": "stderr",
          "text": [
            " 27%|██▋       | 456/1666 [01:06<02:52,  7.03it/s]"
          ]
        },
        {
          "output_type": "stream",
          "name": "stdout",
          "text": [
            "epoch: 82, loss: 182.77292\n"
          ]
        },
        {
          "output_type": "stream",
          "name": "stderr",
          "text": [
            " 28%|██▊       | 462/1666 [01:07<02:55,  6.86it/s]"
          ]
        },
        {
          "output_type": "stream",
          "name": "stdout",
          "text": [
            "epoch: 83, loss: 52.17751\n"
          ]
        },
        {
          "output_type": "stream",
          "name": "stderr",
          "text": [
            " 28%|██▊       | 468/1666 [01:07<02:58,  6.73it/s]"
          ]
        },
        {
          "output_type": "stream",
          "name": "stdout",
          "text": [
            "epoch: 84, loss: 2623.32056\n"
          ]
        },
        {
          "output_type": "stream",
          "name": "stderr",
          "text": [
            " 28%|██▊       | 473/1666 [01:08<02:57,  6.73it/s]"
          ]
        },
        {
          "output_type": "stream",
          "name": "stdout",
          "text": [
            "epoch: 85, loss: 185.38208\n"
          ]
        },
        {
          "output_type": "stream",
          "name": "stderr",
          "text": [
            " 29%|██▉       | 479/1666 [01:09<02:50,  6.95it/s]"
          ]
        },
        {
          "output_type": "stream",
          "name": "stdout",
          "text": [
            "epoch: 86, loss: 462.37772\n"
          ]
        },
        {
          "output_type": "stream",
          "name": "stderr",
          "text": [
            " 29%|██▉       | 484/1666 [01:10<02:48,  6.99it/s]"
          ]
        },
        {
          "output_type": "stream",
          "name": "stdout",
          "text": [
            "epoch: 87, loss: 123.00442\n"
          ]
        },
        {
          "output_type": "stream",
          "name": "stderr",
          "text": [
            " 29%|██▉       | 490/1666 [01:11<02:47,  7.03it/s]"
          ]
        },
        {
          "output_type": "stream",
          "name": "stdout",
          "text": [
            "epoch: 88, loss: 968.67303\n"
          ]
        },
        {
          "output_type": "stream",
          "name": "stderr",
          "text": [
            " 30%|██▉       | 495/1666 [01:11<02:46,  7.02it/s]"
          ]
        },
        {
          "output_type": "stream",
          "name": "stdout",
          "text": [
            "epoch: 89, loss: 177.46268\n"
          ]
        },
        {
          "output_type": "stream",
          "name": "stderr",
          "text": [
            " 30%|███       | 501/1666 [01:12<02:47,  6.96it/s]"
          ]
        },
        {
          "output_type": "stream",
          "name": "stdout",
          "text": [
            "epoch: 90, loss: 218.89337\n"
          ]
        },
        {
          "output_type": "stream",
          "name": "stderr",
          "text": [
            " 30%|███       | 506/1666 [01:13<02:46,  6.96it/s]"
          ]
        },
        {
          "output_type": "stream",
          "name": "stdout",
          "text": [
            "epoch: 91, loss: 1491.72949\n"
          ]
        },
        {
          "output_type": "stream",
          "name": "stderr",
          "text": [
            " 31%|███       | 512/1666 [01:14<02:44,  7.02it/s]"
          ]
        },
        {
          "output_type": "stream",
          "name": "stdout",
          "text": [
            "epoch: 92, loss: 160.43895\n"
          ]
        },
        {
          "output_type": "stream",
          "name": "stderr",
          "text": [
            " 31%|███       | 518/1666 [01:15<02:43,  7.03it/s]"
          ]
        },
        {
          "output_type": "stream",
          "name": "stdout",
          "text": [
            "epoch: 93, loss: 1219.63208\n"
          ]
        },
        {
          "output_type": "stream",
          "name": "stderr",
          "text": [
            " 31%|███▏      | 523/1666 [01:15<02:42,  7.03it/s]"
          ]
        },
        {
          "output_type": "stream",
          "name": "stdout",
          "text": [
            "epoch: 94, loss: 2562.52539\n"
          ]
        },
        {
          "output_type": "stream",
          "name": "stderr",
          "text": [
            " 32%|███▏      | 529/1666 [01:16<02:41,  7.03it/s]"
          ]
        },
        {
          "output_type": "stream",
          "name": "stdout",
          "text": [
            "epoch: 95, loss: 76.76628\n"
          ]
        },
        {
          "output_type": "stream",
          "name": "stderr",
          "text": [
            " 32%|███▏      | 534/1666 [01:17<02:42,  6.96it/s]"
          ]
        },
        {
          "output_type": "stream",
          "name": "stdout",
          "text": [
            "epoch: 96, loss: 119.47696\n"
          ]
        },
        {
          "output_type": "stream",
          "name": "stderr",
          "text": [
            " 32%|███▏      | 540/1666 [01:18<02:41,  6.97it/s]"
          ]
        },
        {
          "output_type": "stream",
          "name": "stdout",
          "text": [
            "epoch: 97, loss: 350.89539\n"
          ]
        },
        {
          "output_type": "stream",
          "name": "stderr",
          "text": [
            " 33%|███▎      | 545/1666 [01:18<02:40,  6.99it/s]"
          ]
        },
        {
          "output_type": "stream",
          "name": "stdout",
          "text": [
            "epoch: 98, loss: 244.63885\n"
          ]
        },
        {
          "output_type": "stream",
          "name": "stderr",
          "text": [
            " 33%|███▎      | 551/1666 [01:19<02:47,  6.67it/s]"
          ]
        },
        {
          "output_type": "stream",
          "name": "stdout",
          "text": [
            "epoch: 99, loss: 358.10953\n"
          ]
        },
        {
          "output_type": "stream",
          "name": "stderr",
          "text": [
            " 33%|███▎      | 556/1666 [01:20<02:45,  6.71it/s]"
          ]
        },
        {
          "output_type": "stream",
          "name": "stdout",
          "text": [
            "epoch: 100, loss: 698.93030\n"
          ]
        },
        {
          "output_type": "stream",
          "name": "stderr",
          "text": [
            " 34%|███▎      | 562/1666 [01:21<02:42,  6.78it/s]"
          ]
        },
        {
          "output_type": "stream",
          "name": "stdout",
          "text": [
            "epoch: 101, loss: 180.95602\n"
          ]
        },
        {
          "output_type": "stream",
          "name": "stderr",
          "text": [
            " 34%|███▍      | 568/1666 [01:22<02:38,  6.91it/s]"
          ]
        },
        {
          "output_type": "stream",
          "name": "stdout",
          "text": [
            "epoch: 102, loss: 2227.87402\n"
          ]
        },
        {
          "output_type": "stream",
          "name": "stderr",
          "text": [
            " 34%|███▍      | 573/1666 [01:23<02:36,  6.97it/s]"
          ]
        },
        {
          "output_type": "stream",
          "name": "stdout",
          "text": [
            "epoch: 103, loss: 138.98235\n"
          ]
        },
        {
          "output_type": "stream",
          "name": "stderr",
          "text": [
            " 35%|███▍      | 579/1666 [01:23<02:35,  7.01it/s]"
          ]
        },
        {
          "output_type": "stream",
          "name": "stdout",
          "text": [
            "epoch: 104, loss: 554.01202\n"
          ]
        },
        {
          "output_type": "stream",
          "name": "stderr",
          "text": [
            " 35%|███▌      | 584/1666 [01:24<02:34,  6.99it/s]"
          ]
        },
        {
          "output_type": "stream",
          "name": "stdout",
          "text": [
            "epoch: 105, loss: 85.66768\n"
          ]
        },
        {
          "output_type": "stream",
          "name": "stderr",
          "text": [
            " 35%|███▌      | 590/1666 [01:25<02:33,  7.02it/s]"
          ]
        },
        {
          "output_type": "stream",
          "name": "stdout",
          "text": [
            "epoch: 106, loss: 164.53262\n"
          ]
        },
        {
          "output_type": "stream",
          "name": "stderr",
          "text": [
            " 36%|███▌      | 595/1666 [01:26<02:32,  7.02it/s]"
          ]
        },
        {
          "output_type": "stream",
          "name": "stdout",
          "text": [
            "epoch: 107, loss: 305.89053\n"
          ]
        },
        {
          "output_type": "stream",
          "name": "stderr",
          "text": [
            " 36%|███▌      | 601/1666 [01:27<02:31,  7.01it/s]"
          ]
        },
        {
          "output_type": "stream",
          "name": "stdout",
          "text": [
            "epoch: 108, loss: 225.30862\n"
          ]
        },
        {
          "output_type": "stream",
          "name": "stderr",
          "text": [
            " 36%|███▋      | 606/1666 [01:27<02:31,  7.00it/s]"
          ]
        },
        {
          "output_type": "stream",
          "name": "stdout",
          "text": [
            "epoch: 109, loss: 712.93457\n"
          ]
        },
        {
          "output_type": "stream",
          "name": "stderr",
          "text": [
            " 37%|███▋      | 612/1666 [01:28<02:30,  7.01it/s]"
          ]
        },
        {
          "output_type": "stream",
          "name": "stdout",
          "text": [
            "epoch: 110, loss: 237.14891\n"
          ]
        },
        {
          "output_type": "stream",
          "name": "stderr",
          "text": [
            " 37%|███▋      | 618/1666 [01:29<02:29,  7.00it/s]"
          ]
        },
        {
          "output_type": "stream",
          "name": "stdout",
          "text": [
            "epoch: 111, loss: 150.88699\n"
          ]
        },
        {
          "output_type": "stream",
          "name": "stderr",
          "text": [
            " 37%|███▋      | 623/1666 [01:30<02:28,  7.00it/s]"
          ]
        },
        {
          "output_type": "stream",
          "name": "stdout",
          "text": [
            "epoch: 112, loss: 156.13359\n"
          ]
        },
        {
          "output_type": "stream",
          "name": "stderr",
          "text": [
            " 38%|███▊      | 629/1666 [01:31<02:28,  7.00it/s]"
          ]
        },
        {
          "output_type": "stream",
          "name": "stdout",
          "text": [
            "epoch: 113, loss: 140.25995\n"
          ]
        },
        {
          "output_type": "stream",
          "name": "stderr",
          "text": [
            " 38%|███▊      | 634/1666 [01:31<02:28,  6.95it/s]"
          ]
        },
        {
          "output_type": "stream",
          "name": "stdout",
          "text": [
            "epoch: 114, loss: 254.98100\n"
          ]
        },
        {
          "output_type": "stream",
          "name": "stderr",
          "text": [
            " 38%|███▊      | 640/1666 [01:32<02:30,  6.82it/s]"
          ]
        },
        {
          "output_type": "stream",
          "name": "stdout",
          "text": [
            "epoch: 115, loss: 408.43268\n"
          ]
        },
        {
          "output_type": "stream",
          "name": "stderr",
          "text": [
            " 39%|███▊      | 645/1666 [01:33<02:30,  6.80it/s]"
          ]
        },
        {
          "output_type": "stream",
          "name": "stdout",
          "text": [
            "epoch: 116, loss: 190.64389\n"
          ]
        },
        {
          "output_type": "stream",
          "name": "stderr",
          "text": [
            " 39%|███▉      | 651/1666 [01:34<02:31,  6.72it/s]"
          ]
        },
        {
          "output_type": "stream",
          "name": "stdout",
          "text": [
            "epoch: 117, loss: 796.47772\n"
          ]
        },
        {
          "output_type": "stream",
          "name": "stderr",
          "text": [
            " 39%|███▉      | 656/1666 [01:35<02:26,  6.89it/s]"
          ]
        },
        {
          "output_type": "stream",
          "name": "stdout",
          "text": [
            "epoch: 118, loss: 1644.00464\n"
          ]
        },
        {
          "output_type": "stream",
          "name": "stderr",
          "text": [
            " 40%|███▉      | 662/1666 [01:35<02:24,  6.95it/s]"
          ]
        },
        {
          "output_type": "stream",
          "name": "stdout",
          "text": [
            "epoch: 119, loss: 145.68408\n"
          ]
        },
        {
          "output_type": "stream",
          "name": "stderr",
          "text": [
            " 40%|████      | 668/1666 [01:36<02:22,  6.99it/s]"
          ]
        },
        {
          "output_type": "stream",
          "name": "stdout",
          "text": [
            "epoch: 120, loss: 689.63116\n"
          ]
        },
        {
          "output_type": "stream",
          "name": "stderr",
          "text": [
            " 40%|████      | 673/1666 [01:37<02:22,  6.97it/s]"
          ]
        },
        {
          "output_type": "stream",
          "name": "stdout",
          "text": [
            "epoch: 121, loss: 66.46455\n"
          ]
        },
        {
          "output_type": "stream",
          "name": "stderr",
          "text": [
            " 41%|████      | 679/1666 [01:38<02:21,  6.99it/s]"
          ]
        },
        {
          "output_type": "stream",
          "name": "stdout",
          "text": [
            "epoch: 122, loss: 180.88976\n"
          ]
        },
        {
          "output_type": "stream",
          "name": "stderr",
          "text": [
            " 41%|████      | 684/1666 [01:39<02:20,  6.97it/s]"
          ]
        },
        {
          "output_type": "stream",
          "name": "stdout",
          "text": [
            "epoch: 123, loss: 526.38226\n"
          ]
        },
        {
          "output_type": "stream",
          "name": "stderr",
          "text": [
            " 41%|████▏     | 690/1666 [01:39<02:19,  7.01it/s]"
          ]
        },
        {
          "output_type": "stream",
          "name": "stdout",
          "text": [
            "epoch: 124, loss: 367.24893\n"
          ]
        },
        {
          "output_type": "stream",
          "name": "stderr",
          "text": [
            " 42%|████▏     | 695/1666 [01:40<02:19,  6.97it/s]"
          ]
        },
        {
          "output_type": "stream",
          "name": "stdout",
          "text": [
            "epoch: 125, loss: 141.29973\n"
          ]
        },
        {
          "output_type": "stream",
          "name": "stderr",
          "text": [
            " 42%|████▏     | 701/1666 [01:41<02:19,  6.92it/s]"
          ]
        },
        {
          "output_type": "stream",
          "name": "stdout",
          "text": [
            "epoch: 126, loss: 155.83549\n"
          ]
        },
        {
          "output_type": "stream",
          "name": "stderr",
          "text": [
            " 42%|████▏     | 706/1666 [01:42<02:17,  6.99it/s]"
          ]
        },
        {
          "output_type": "stream",
          "name": "stdout",
          "text": [
            "epoch: 127, loss: 388.29007\n"
          ]
        },
        {
          "output_type": "stream",
          "name": "stderr",
          "text": [
            " 43%|████▎     | 712/1666 [01:43<02:17,  6.96it/s]"
          ]
        },
        {
          "output_type": "stream",
          "name": "stdout",
          "text": [
            "epoch: 128, loss: 124.03365\n"
          ]
        },
        {
          "output_type": "stream",
          "name": "stderr",
          "text": [
            " 43%|████▎     | 718/1666 [01:43<02:16,  6.97it/s]"
          ]
        },
        {
          "output_type": "stream",
          "name": "stdout",
          "text": [
            "epoch: 129, loss: 285.15854\n"
          ]
        },
        {
          "output_type": "stream",
          "name": "stderr",
          "text": [
            " 43%|████▎     | 723/1666 [01:44<02:18,  6.79it/s]"
          ]
        },
        {
          "output_type": "stream",
          "name": "stdout",
          "text": [
            "epoch: 130, loss: 462.31448\n"
          ]
        },
        {
          "output_type": "stream",
          "name": "stderr",
          "text": [
            " 44%|████▍     | 729/1666 [01:45<02:20,  6.68it/s]"
          ]
        },
        {
          "output_type": "stream",
          "name": "stdout",
          "text": [
            "epoch: 131, loss: 213.69556\n"
          ]
        },
        {
          "output_type": "stream",
          "name": "stderr",
          "text": [
            " 44%|████▍     | 734/1666 [01:46<02:16,  6.82it/s]"
          ]
        },
        {
          "output_type": "stream",
          "name": "stdout",
          "text": [
            "epoch: 132, loss: 116.76907\n"
          ]
        },
        {
          "output_type": "stream",
          "name": "stderr",
          "text": [
            " 44%|████▍     | 740/1666 [01:47<02:18,  6.70it/s]"
          ]
        },
        {
          "output_type": "stream",
          "name": "stdout",
          "text": [
            "epoch: 133, loss: 454.11768\n"
          ]
        },
        {
          "output_type": "stream",
          "name": "stderr",
          "text": [
            " 45%|████▍     | 745/1666 [01:47<02:12,  6.94it/s]"
          ]
        },
        {
          "output_type": "stream",
          "name": "stdout",
          "text": [
            "epoch: 134, loss: 331.25320\n"
          ]
        },
        {
          "output_type": "stream",
          "name": "stderr",
          "text": [
            " 45%|████▌     | 751/1666 [01:48<02:11,  6.93it/s]"
          ]
        },
        {
          "output_type": "stream",
          "name": "stdout",
          "text": [
            "epoch: 135, loss: 457.55447\n"
          ]
        },
        {
          "output_type": "stream",
          "name": "stderr",
          "text": [
            " 45%|████▌     | 756/1666 [01:49<02:13,  6.80it/s]"
          ]
        },
        {
          "output_type": "stream",
          "name": "stdout",
          "text": [
            "epoch: 136, loss: 1208.59778\n"
          ]
        },
        {
          "output_type": "stream",
          "name": "stderr",
          "text": [
            " 46%|████▌     | 762/1666 [01:50<02:10,  6.95it/s]"
          ]
        },
        {
          "output_type": "stream",
          "name": "stdout",
          "text": [
            "epoch: 137, loss: 126.32188\n"
          ]
        },
        {
          "output_type": "stream",
          "name": "stderr",
          "text": [
            " 46%|████▌     | 768/1666 [01:51<02:08,  6.98it/s]"
          ]
        },
        {
          "output_type": "stream",
          "name": "stdout",
          "text": [
            "epoch: 138, loss: 451.04370\n"
          ]
        },
        {
          "output_type": "stream",
          "name": "stderr",
          "text": [
            " 46%|████▋     | 773/1666 [01:51<02:08,  6.94it/s]"
          ]
        },
        {
          "output_type": "stream",
          "name": "stdout",
          "text": [
            "epoch: 139, loss: 79.17018\n"
          ]
        },
        {
          "output_type": "stream",
          "name": "stderr",
          "text": [
            " 47%|████▋     | 779/1666 [01:52<02:08,  6.91it/s]"
          ]
        },
        {
          "output_type": "stream",
          "name": "stdout",
          "text": [
            "epoch: 140, loss: 170.92497\n"
          ]
        },
        {
          "output_type": "stream",
          "name": "stderr",
          "text": [
            " 47%|████▋     | 784/1666 [01:53<02:06,  6.95it/s]"
          ]
        },
        {
          "output_type": "stream",
          "name": "stdout",
          "text": [
            "epoch: 141, loss: 368.74063\n"
          ]
        },
        {
          "output_type": "stream",
          "name": "stderr",
          "text": [
            " 47%|████▋     | 790/1666 [01:54<02:05,  6.97it/s]"
          ]
        },
        {
          "output_type": "stream",
          "name": "stdout",
          "text": [
            "epoch: 142, loss: 416.80286\n"
          ]
        },
        {
          "output_type": "stream",
          "name": "stderr",
          "text": [
            " 48%|████▊     | 795/1666 [01:55<02:05,  6.96it/s]"
          ]
        },
        {
          "output_type": "stream",
          "name": "stdout",
          "text": [
            "epoch: 143, loss: 448.80005\n"
          ]
        },
        {
          "output_type": "stream",
          "name": "stderr",
          "text": [
            " 48%|████▊     | 801/1666 [01:55<02:03,  6.98it/s]"
          ]
        },
        {
          "output_type": "stream",
          "name": "stdout",
          "text": [
            "epoch: 144, loss: 421.54279\n"
          ]
        },
        {
          "output_type": "stream",
          "name": "stderr",
          "text": [
            " 48%|████▊     | 806/1666 [01:56<02:04,  6.92it/s]"
          ]
        },
        {
          "output_type": "stream",
          "name": "stdout",
          "text": [
            "epoch: 145, loss: 312.34546\n"
          ]
        },
        {
          "output_type": "stream",
          "name": "stderr",
          "text": [
            " 49%|████▊     | 812/1666 [01:57<02:05,  6.81it/s]"
          ]
        },
        {
          "output_type": "stream",
          "name": "stdout",
          "text": [
            "epoch: 146, loss: 114.88271\n"
          ]
        },
        {
          "output_type": "stream",
          "name": "stderr",
          "text": [
            " 49%|████▉     | 818/1666 [01:58<02:05,  6.77it/s]"
          ]
        },
        {
          "output_type": "stream",
          "name": "stdout",
          "text": [
            "epoch: 147, loss: 166.97066\n"
          ]
        },
        {
          "output_type": "stream",
          "name": "stderr",
          "text": [
            " 49%|████▉     | 823/1666 [01:59<02:05,  6.74it/s]"
          ]
        },
        {
          "output_type": "stream",
          "name": "stdout",
          "text": [
            "epoch: 148, loss: 159.12537\n"
          ]
        },
        {
          "output_type": "stream",
          "name": "stderr",
          "text": [
            " 50%|████▉     | 829/1666 [02:00<02:02,  6.81it/s]"
          ]
        },
        {
          "output_type": "stream",
          "name": "stdout",
          "text": [
            "epoch: 149, loss: 236.08728\n"
          ]
        },
        {
          "output_type": "stream",
          "name": "stderr",
          "text": [
            " 50%|█████     | 834/1666 [02:00<02:00,  6.92it/s]"
          ]
        },
        {
          "output_type": "stream",
          "name": "stdout",
          "text": [
            "epoch: 150, loss: 403.66422\n"
          ]
        },
        {
          "output_type": "stream",
          "name": "stderr",
          "text": [
            " 50%|█████     | 840/1666 [02:01<01:58,  6.99it/s]"
          ]
        },
        {
          "output_type": "stream",
          "name": "stdout",
          "text": [
            "epoch: 151, loss: 318.64862\n"
          ]
        },
        {
          "output_type": "stream",
          "name": "stderr",
          "text": [
            " 51%|█████     | 845/1666 [02:02<01:57,  6.98it/s]"
          ]
        },
        {
          "output_type": "stream",
          "name": "stdout",
          "text": [
            "epoch: 152, loss: 661.77655\n"
          ]
        },
        {
          "output_type": "stream",
          "name": "stderr",
          "text": [
            " 51%|█████     | 851/1666 [02:03<01:57,  6.96it/s]"
          ]
        },
        {
          "output_type": "stream",
          "name": "stdout",
          "text": [
            "epoch: 153, loss: 127.29194\n"
          ]
        },
        {
          "output_type": "stream",
          "name": "stderr",
          "text": [
            " 51%|█████▏    | 856/1666 [02:03<01:56,  6.94it/s]"
          ]
        },
        {
          "output_type": "stream",
          "name": "stdout",
          "text": [
            "epoch: 154, loss: 224.47678\n"
          ]
        },
        {
          "output_type": "stream",
          "name": "stderr",
          "text": [
            " 52%|█████▏    | 862/1666 [02:04<01:55,  6.96it/s]"
          ]
        },
        {
          "output_type": "stream",
          "name": "stdout",
          "text": [
            "epoch: 155, loss: 126.14872\n"
          ]
        },
        {
          "output_type": "stream",
          "name": "stderr",
          "text": [
            " 52%|█████▏    | 868/1666 [02:05<01:53,  7.01it/s]"
          ]
        },
        {
          "output_type": "stream",
          "name": "stdout",
          "text": [
            "epoch: 156, loss: 446.53055\n"
          ]
        },
        {
          "output_type": "stream",
          "name": "stderr",
          "text": [
            " 52%|█████▏    | 873/1666 [02:06<01:56,  6.82it/s]"
          ]
        },
        {
          "output_type": "stream",
          "name": "stdout",
          "text": [
            "epoch: 157, loss: 53.06850\n"
          ]
        },
        {
          "output_type": "stream",
          "name": "stderr",
          "text": [
            " 53%|█████▎    | 879/1666 [02:07<01:56,  6.75it/s]"
          ]
        },
        {
          "output_type": "stream",
          "name": "stdout",
          "text": [
            "epoch: 158, loss: 171.70853\n"
          ]
        },
        {
          "output_type": "stream",
          "name": "stderr",
          "text": [
            " 53%|█████▎    | 884/1666 [02:08<01:56,  6.74it/s]"
          ]
        },
        {
          "output_type": "stream",
          "name": "stdout",
          "text": [
            "epoch: 159, loss: 119.18753\n"
          ]
        },
        {
          "output_type": "stream",
          "name": "stderr",
          "text": [
            " 53%|█████▎    | 890/1666 [02:08<01:54,  6.79it/s]"
          ]
        },
        {
          "output_type": "stream",
          "name": "stdout",
          "text": [
            "epoch: 160, loss: 170.16362\n"
          ]
        },
        {
          "output_type": "stream",
          "name": "stderr",
          "text": [
            " 54%|█████▎    | 895/1666 [02:09<01:50,  6.95it/s]"
          ]
        },
        {
          "output_type": "stream",
          "name": "stdout",
          "text": [
            "epoch: 161, loss: 389.45999\n"
          ]
        },
        {
          "output_type": "stream",
          "name": "stderr",
          "text": [
            " 54%|█████▍    | 901/1666 [02:10<01:52,  6.78it/s]"
          ]
        },
        {
          "output_type": "stream",
          "name": "stdout",
          "text": [
            "epoch: 162, loss: 210.44249\n"
          ]
        },
        {
          "output_type": "stream",
          "name": "stderr",
          "text": [
            " 54%|█████▍    | 906/1666 [02:11<01:51,  6.79it/s]"
          ]
        },
        {
          "output_type": "stream",
          "name": "stdout",
          "text": [
            "epoch: 163, loss: 286.44455\n"
          ]
        },
        {
          "output_type": "stream",
          "name": "stderr",
          "text": [
            " 55%|█████▍    | 912/1666 [02:12<01:52,  6.69it/s]"
          ]
        },
        {
          "output_type": "stream",
          "name": "stdout",
          "text": [
            "epoch: 164, loss: 179.10942\n"
          ]
        },
        {
          "output_type": "stream",
          "name": "stderr",
          "text": [
            " 55%|█████▌    | 918/1666 [02:13<01:48,  6.91it/s]"
          ]
        },
        {
          "output_type": "stream",
          "name": "stdout",
          "text": [
            "epoch: 165, loss: 92.45381\n"
          ]
        },
        {
          "output_type": "stream",
          "name": "stderr",
          "text": [
            " 55%|█████▌    | 923/1666 [02:13<01:46,  6.97it/s]"
          ]
        },
        {
          "output_type": "stream",
          "name": "stdout",
          "text": [
            "epoch: 166, loss: 40.55732\n"
          ]
        },
        {
          "output_type": "stream",
          "name": "stderr",
          "text": [
            " 56%|█████▌    | 929/1666 [02:14<01:45,  7.02it/s]"
          ]
        },
        {
          "output_type": "stream",
          "name": "stdout",
          "text": [
            "epoch: 167, loss: 225.76154\n"
          ]
        },
        {
          "output_type": "stream",
          "name": "stderr",
          "text": [
            " 56%|█████▌    | 934/1666 [02:15<01:44,  6.99it/s]"
          ]
        },
        {
          "output_type": "stream",
          "name": "stdout",
          "text": [
            "epoch: 168, loss: 152.58487\n"
          ]
        },
        {
          "output_type": "stream",
          "name": "stderr",
          "text": [
            " 56%|█████▋    | 940/1666 [02:16<01:43,  7.01it/s]"
          ]
        },
        {
          "output_type": "stream",
          "name": "stdout",
          "text": [
            "epoch: 169, loss: 66.43005\n"
          ]
        },
        {
          "output_type": "stream",
          "name": "stderr",
          "text": [
            " 57%|█████▋    | 945/1666 [02:16<01:42,  7.01it/s]"
          ]
        },
        {
          "output_type": "stream",
          "name": "stdout",
          "text": [
            "epoch: 170, loss: 568.07544\n"
          ]
        },
        {
          "output_type": "stream",
          "name": "stderr",
          "text": [
            " 57%|█████▋    | 951/1666 [02:17<01:42,  6.98it/s]"
          ]
        },
        {
          "output_type": "stream",
          "name": "stdout",
          "text": [
            "epoch: 171, loss: 122.28333\n"
          ]
        },
        {
          "output_type": "stream",
          "name": "stderr",
          "text": [
            " 57%|█████▋    | 956/1666 [02:18<01:42,  6.93it/s]"
          ]
        },
        {
          "output_type": "stream",
          "name": "stdout",
          "text": [
            "epoch: 172, loss: 504.96231\n"
          ]
        },
        {
          "output_type": "stream",
          "name": "stderr",
          "text": [
            " 58%|█████▊    | 962/1666 [02:19<01:40,  6.98it/s]"
          ]
        },
        {
          "output_type": "stream",
          "name": "stdout",
          "text": [
            "epoch: 173, loss: 111.86192\n"
          ]
        },
        {
          "output_type": "stream",
          "name": "stderr",
          "text": [
            " 58%|█████▊    | 968/1666 [02:20<01:39,  7.01it/s]"
          ]
        },
        {
          "output_type": "stream",
          "name": "stdout",
          "text": [
            "epoch: 174, loss: 469.46045\n"
          ]
        },
        {
          "output_type": "stream",
          "name": "stderr",
          "text": [
            " 58%|█████▊    | 973/1666 [02:20<01:38,  7.01it/s]"
          ]
        },
        {
          "output_type": "stream",
          "name": "stdout",
          "text": [
            "epoch: 175, loss: 49.65639\n"
          ]
        },
        {
          "output_type": "stream",
          "name": "stderr",
          "text": [
            " 59%|█████▉    | 979/1666 [02:21<01:38,  6.98it/s]"
          ]
        },
        {
          "output_type": "stream",
          "name": "stdout",
          "text": [
            "epoch: 176, loss: 326.95569\n"
          ]
        },
        {
          "output_type": "stream",
          "name": "stderr",
          "text": [
            " 59%|█████▉    | 984/1666 [02:22<01:38,  6.93it/s]"
          ]
        },
        {
          "output_type": "stream",
          "name": "stdout",
          "text": [
            "epoch: 177, loss: 89.97396\n"
          ]
        },
        {
          "output_type": "stream",
          "name": "stderr",
          "text": [
            " 59%|█████▉    | 990/1666 [02:23<01:38,  6.87it/s]"
          ]
        },
        {
          "output_type": "stream",
          "name": "stdout",
          "text": [
            "epoch: 178, loss: 366.42328\n"
          ]
        },
        {
          "output_type": "stream",
          "name": "stderr",
          "text": [
            " 60%|█████▉    | 995/1666 [02:24<01:39,  6.73it/s]"
          ]
        },
        {
          "output_type": "stream",
          "name": "stdout",
          "text": [
            "epoch: 179, loss: 303.98401\n"
          ]
        },
        {
          "output_type": "stream",
          "name": "stderr",
          "text": [
            " 60%|██████    | 1001/1666 [02:25<01:39,  6.65it/s]"
          ]
        },
        {
          "output_type": "stream",
          "name": "stdout",
          "text": [
            "epoch: 180, loss: 163.08116\n"
          ]
        },
        {
          "output_type": "stream",
          "name": "stderr",
          "text": [
            " 60%|██████    | 1006/1666 [02:25<01:35,  6.92it/s]"
          ]
        },
        {
          "output_type": "stream",
          "name": "stdout",
          "text": [
            "epoch: 181, loss: 100.05862\n"
          ]
        },
        {
          "output_type": "stream",
          "name": "stderr",
          "text": [
            " 61%|██████    | 1012/1666 [02:26<01:34,  6.94it/s]"
          ]
        },
        {
          "output_type": "stream",
          "name": "stdout",
          "text": [
            "epoch: 182, loss: 45.70699\n"
          ]
        },
        {
          "output_type": "stream",
          "name": "stderr",
          "text": [
            " 61%|██████    | 1018/1666 [02:27<01:32,  7.00it/s]"
          ]
        },
        {
          "output_type": "stream",
          "name": "stdout",
          "text": [
            "epoch: 183, loss: 280.39099\n"
          ]
        },
        {
          "output_type": "stream",
          "name": "stderr",
          "text": [
            " 61%|██████▏   | 1023/1666 [02:28<01:31,  7.01it/s]"
          ]
        },
        {
          "output_type": "stream",
          "name": "stdout",
          "text": [
            "epoch: 184, loss: 56.45930\n"
          ]
        },
        {
          "output_type": "stream",
          "name": "stderr",
          "text": [
            " 62%|██████▏   | 1029/1666 [02:29<01:30,  7.01it/s]"
          ]
        },
        {
          "output_type": "stream",
          "name": "stdout",
          "text": [
            "epoch: 185, loss: 198.29994\n"
          ]
        },
        {
          "output_type": "stream",
          "name": "stderr",
          "text": [
            " 62%|██████▏   | 1034/1666 [02:29<01:30,  6.97it/s]"
          ]
        },
        {
          "output_type": "stream",
          "name": "stdout",
          "text": [
            "epoch: 186, loss: 171.39360\n"
          ]
        },
        {
          "output_type": "stream",
          "name": "stderr",
          "text": [
            " 62%|██████▏   | 1040/1666 [02:30<01:29,  7.03it/s]"
          ]
        },
        {
          "output_type": "stream",
          "name": "stdout",
          "text": [
            "epoch: 187, loss: 159.45445\n"
          ]
        },
        {
          "output_type": "stream",
          "name": "stderr",
          "text": [
            " 63%|██████▎   | 1045/1666 [02:31<01:28,  7.04it/s]"
          ]
        },
        {
          "output_type": "stream",
          "name": "stdout",
          "text": [
            "epoch: 188, loss: 182.68082\n"
          ]
        },
        {
          "output_type": "stream",
          "name": "stderr",
          "text": [
            " 63%|██████▎   | 1051/1666 [02:32<01:28,  6.95it/s]"
          ]
        },
        {
          "output_type": "stream",
          "name": "stdout",
          "text": [
            "epoch: 189, loss: 139.52628\n"
          ]
        },
        {
          "output_type": "stream",
          "name": "stderr",
          "text": [
            " 63%|██████▎   | 1056/1666 [02:32<01:27,  6.98it/s]"
          ]
        },
        {
          "output_type": "stream",
          "name": "stdout",
          "text": [
            "epoch: 190, loss: 373.15485\n"
          ]
        },
        {
          "output_type": "stream",
          "name": "stderr",
          "text": [
            " 64%|██████▎   | 1062/1666 [02:33<01:26,  7.00it/s]"
          ]
        },
        {
          "output_type": "stream",
          "name": "stdout",
          "text": [
            "epoch: 191, loss: 56.31331\n"
          ]
        },
        {
          "output_type": "stream",
          "name": "stderr",
          "text": [
            " 64%|██████▍   | 1068/1666 [02:34<01:25,  6.98it/s]"
          ]
        },
        {
          "output_type": "stream",
          "name": "stdout",
          "text": [
            "epoch: 192, loss: 166.29463\n"
          ]
        },
        {
          "output_type": "stream",
          "name": "stderr",
          "text": [
            " 64%|██████▍   | 1073/1666 [02:35<01:26,  6.83it/s]"
          ]
        },
        {
          "output_type": "stream",
          "name": "stdout",
          "text": [
            "epoch: 193, loss: 145.11855\n"
          ]
        },
        {
          "output_type": "stream",
          "name": "stderr",
          "text": [
            " 65%|██████▍   | 1079/1666 [02:36<01:29,  6.56it/s]"
          ]
        },
        {
          "output_type": "stream",
          "name": "stdout",
          "text": [
            "epoch: 194, loss: 186.38354\n"
          ]
        },
        {
          "output_type": "stream",
          "name": "stderr",
          "text": [
            " 65%|██████▌   | 1084/1666 [02:36<01:26,  6.72it/s]"
          ]
        },
        {
          "output_type": "stream",
          "name": "stdout",
          "text": [
            "epoch: 195, loss: 61.46903\n"
          ]
        },
        {
          "output_type": "stream",
          "name": "stderr",
          "text": [
            " 65%|██████▌   | 1090/1666 [02:37<01:24,  6.78it/s]"
          ]
        },
        {
          "output_type": "stream",
          "name": "stdout",
          "text": [
            "epoch: 196, loss: 387.15915\n"
          ]
        },
        {
          "output_type": "stream",
          "name": "stderr",
          "text": [
            " 66%|██████▌   | 1095/1666 [02:38<01:21,  6.98it/s]"
          ]
        },
        {
          "output_type": "stream",
          "name": "stdout",
          "text": [
            "epoch: 197, loss: 283.58200\n"
          ]
        },
        {
          "output_type": "stream",
          "name": "stderr",
          "text": [
            " 66%|██████▌   | 1101/1666 [02:39<01:20,  7.00it/s]"
          ]
        },
        {
          "output_type": "stream",
          "name": "stdout",
          "text": [
            "epoch: 198, loss: 126.65025\n"
          ]
        },
        {
          "output_type": "stream",
          "name": "stderr",
          "text": [
            " 66%|██████▋   | 1106/1666 [02:40<01:19,  7.01it/s]"
          ]
        },
        {
          "output_type": "stream",
          "name": "stdout",
          "text": [
            "epoch: 199, loss: 184.69600\n"
          ]
        },
        {
          "output_type": "stream",
          "name": "stderr",
          "text": [
            " 67%|██████▋   | 1112/1666 [02:40<01:19,  7.00it/s]"
          ]
        },
        {
          "output_type": "stream",
          "name": "stdout",
          "text": [
            "epoch: 200, loss: 70.05309\n"
          ]
        },
        {
          "output_type": "stream",
          "name": "stderr",
          "text": [
            " 67%|██████▋   | 1118/1666 [02:41<01:18,  7.02it/s]"
          ]
        },
        {
          "output_type": "stream",
          "name": "stdout",
          "text": [
            "epoch: 201, loss: 514.86938\n"
          ]
        },
        {
          "output_type": "stream",
          "name": "stderr",
          "text": [
            " 67%|██████▋   | 1123/1666 [02:42<01:17,  7.00it/s]"
          ]
        },
        {
          "output_type": "stream",
          "name": "stdout",
          "text": [
            "epoch: 202, loss: 60.10532\n"
          ]
        },
        {
          "output_type": "stream",
          "name": "stderr",
          "text": [
            " 68%|██████▊   | 1129/1666 [02:43<01:16,  7.02it/s]"
          ]
        },
        {
          "output_type": "stream",
          "name": "stdout",
          "text": [
            "epoch: 203, loss: 149.39549\n"
          ]
        },
        {
          "output_type": "stream",
          "name": "stderr",
          "text": [
            " 68%|██████▊   | 1134/1666 [02:44<01:16,  7.00it/s]"
          ]
        },
        {
          "output_type": "stream",
          "name": "stdout",
          "text": [
            "epoch: 204, loss: 33.60401\n"
          ]
        },
        {
          "output_type": "stream",
          "name": "stderr",
          "text": [
            " 68%|██████▊   | 1140/1666 [02:44<01:15,  7.01it/s]"
          ]
        },
        {
          "output_type": "stream",
          "name": "stdout",
          "text": [
            "epoch: 205, loss: 98.27175\n"
          ]
        },
        {
          "output_type": "stream",
          "name": "stderr",
          "text": [
            " 69%|██████▊   | 1145/1666 [02:45<01:14,  6.97it/s]"
          ]
        },
        {
          "output_type": "stream",
          "name": "stdout",
          "text": [
            "epoch: 206, loss: 209.24318\n"
          ]
        },
        {
          "output_type": "stream",
          "name": "stderr",
          "text": [
            " 69%|██████▉   | 1151/1666 [02:46<01:13,  7.00it/s]"
          ]
        },
        {
          "output_type": "stream",
          "name": "stdout",
          "text": [
            "epoch: 207, loss: 188.91687\n"
          ]
        },
        {
          "output_type": "stream",
          "name": "stderr",
          "text": [
            " 69%|██████▉   | 1156/1666 [02:47<01:12,  7.00it/s]"
          ]
        },
        {
          "output_type": "stream",
          "name": "stdout",
          "text": [
            "epoch: 208, loss: 308.17737\n"
          ]
        },
        {
          "output_type": "stream",
          "name": "stderr",
          "text": [
            " 70%|██████▉   | 1162/1666 [02:48<01:14,  6.78it/s]"
          ]
        },
        {
          "output_type": "stream",
          "name": "stdout",
          "text": [
            "epoch: 209, loss: 73.87784\n"
          ]
        },
        {
          "output_type": "stream",
          "name": "stderr",
          "text": [
            " 70%|███████   | 1167/1666 [02:48<01:14,  6.67it/s]"
          ]
        },
        {
          "output_type": "stream",
          "name": "stdout",
          "text": [
            "epoch: 210, loss: 84.72971\n"
          ]
        },
        {
          "output_type": "stream",
          "name": "stderr",
          "text": [
            " 70%|███████   | 1173/1666 [02:49<01:13,  6.74it/s]"
          ]
        },
        {
          "output_type": "stream",
          "name": "stdout",
          "text": [
            "epoch: 211, loss: 30.82544\n"
          ]
        },
        {
          "output_type": "stream",
          "name": "stderr",
          "text": [
            " 71%|███████   | 1179/1666 [02:50<01:11,  6.81it/s]"
          ]
        },
        {
          "output_type": "stream",
          "name": "stdout",
          "text": [
            "epoch: 212, loss: 35.10722\n"
          ]
        },
        {
          "output_type": "stream",
          "name": "stderr",
          "text": [
            " 71%|███████   | 1184/1666 [02:51<01:09,  6.96it/s]"
          ]
        },
        {
          "output_type": "stream",
          "name": "stdout",
          "text": [
            "epoch: 213, loss: 23.79905\n"
          ]
        },
        {
          "output_type": "stream",
          "name": "stderr",
          "text": [
            " 71%|███████▏  | 1190/1666 [02:52<01:07,  7.01it/s]"
          ]
        },
        {
          "output_type": "stream",
          "name": "stdout",
          "text": [
            "epoch: 214, loss: 74.00510\n"
          ]
        },
        {
          "output_type": "stream",
          "name": "stderr",
          "text": [
            " 72%|███████▏  | 1195/1666 [02:52<01:07,  6.97it/s]"
          ]
        },
        {
          "output_type": "stream",
          "name": "stdout",
          "text": [
            "epoch: 215, loss: 157.85446\n"
          ]
        },
        {
          "output_type": "stream",
          "name": "stderr",
          "text": [
            " 72%|███████▏  | 1201/1666 [02:53<01:06,  6.97it/s]"
          ]
        },
        {
          "output_type": "stream",
          "name": "stdout",
          "text": [
            "epoch: 216, loss: 85.33932\n"
          ]
        },
        {
          "output_type": "stream",
          "name": "stderr",
          "text": [
            " 72%|███████▏  | 1206/1666 [02:54<01:05,  6.99it/s]"
          ]
        },
        {
          "output_type": "stream",
          "name": "stdout",
          "text": [
            "epoch: 217, loss: 692.70178\n"
          ]
        },
        {
          "output_type": "stream",
          "name": "stderr",
          "text": [
            " 73%|███████▎  | 1212/1666 [02:55<01:04,  6.98it/s]"
          ]
        },
        {
          "output_type": "stream",
          "name": "stdout",
          "text": [
            "epoch: 218, loss: 36.40942\n"
          ]
        },
        {
          "output_type": "stream",
          "name": "stderr",
          "text": [
            " 73%|███████▎  | 1218/1666 [02:56<01:03,  7.01it/s]"
          ]
        },
        {
          "output_type": "stream",
          "name": "stdout",
          "text": [
            "epoch: 219, loss: 361.88702\n"
          ]
        },
        {
          "output_type": "stream",
          "name": "stderr",
          "text": [
            " 73%|███████▎  | 1223/1666 [02:56<01:02,  7.04it/s]"
          ]
        },
        {
          "output_type": "stream",
          "name": "stdout",
          "text": [
            "epoch: 220, loss: 102.96343\n"
          ]
        },
        {
          "output_type": "stream",
          "name": "stderr",
          "text": [
            " 74%|███████▍  | 1229/1666 [02:57<01:03,  6.93it/s]"
          ]
        },
        {
          "output_type": "stream",
          "name": "stdout",
          "text": [
            "epoch: 221, loss: 133.38483\n"
          ]
        },
        {
          "output_type": "stream",
          "name": "stderr",
          "text": [
            " 74%|███████▍  | 1234/1666 [02:58<01:02,  6.95it/s]"
          ]
        },
        {
          "output_type": "stream",
          "name": "stdout",
          "text": [
            "epoch: 222, loss: 60.88016\n"
          ]
        },
        {
          "output_type": "stream",
          "name": "stderr",
          "text": [
            " 74%|███████▍  | 1240/1666 [02:59<01:00,  7.02it/s]"
          ]
        },
        {
          "output_type": "stream",
          "name": "stdout",
          "text": [
            "epoch: 223, loss: 79.16497\n"
          ]
        },
        {
          "output_type": "stream",
          "name": "stderr",
          "text": [
            " 75%|███████▍  | 1245/1666 [03:00<01:00,  6.99it/s]"
          ]
        },
        {
          "output_type": "stream",
          "name": "stdout",
          "text": [
            "epoch: 224, loss: 90.98289\n"
          ]
        },
        {
          "output_type": "stream",
          "name": "stderr",
          "text": [
            " 75%|███████▌  | 1251/1666 [03:00<01:01,  6.79it/s]"
          ]
        },
        {
          "output_type": "stream",
          "name": "stdout",
          "text": [
            "epoch: 225, loss: 27.83905\n"
          ]
        },
        {
          "output_type": "stream",
          "name": "stderr",
          "text": [
            " 75%|███████▌  | 1256/1666 [03:01<01:01,  6.62it/s]"
          ]
        },
        {
          "output_type": "stream",
          "name": "stdout",
          "text": [
            "epoch: 226, loss: 62.15829\n"
          ]
        },
        {
          "output_type": "stream",
          "name": "stderr",
          "text": [
            " 76%|███████▌  | 1262/1666 [03:02<01:00,  6.72it/s]"
          ]
        },
        {
          "output_type": "stream",
          "name": "stdout",
          "text": [
            "epoch: 227, loss: 105.36876\n"
          ]
        },
        {
          "output_type": "stream",
          "name": "stderr",
          "text": [
            " 76%|███████▌  | 1268/1666 [03:03<00:58,  6.80it/s]"
          ]
        },
        {
          "output_type": "stream",
          "name": "stdout",
          "text": [
            "epoch: 228, loss: 134.62335\n"
          ]
        },
        {
          "output_type": "stream",
          "name": "stderr",
          "text": [
            " 76%|███████▋  | 1273/1666 [03:04<00:56,  6.90it/s]"
          ]
        },
        {
          "output_type": "stream",
          "name": "stdout",
          "text": [
            "epoch: 229, loss: 115.38008\n"
          ]
        },
        {
          "output_type": "stream",
          "name": "stderr",
          "text": [
            " 77%|███████▋  | 1279/1666 [03:05<00:55,  6.97it/s]"
          ]
        },
        {
          "output_type": "stream",
          "name": "stdout",
          "text": [
            "epoch: 230, loss: 103.38739\n"
          ]
        },
        {
          "output_type": "stream",
          "name": "stderr",
          "text": [
            " 77%|███████▋  | 1284/1666 [03:05<00:55,  6.93it/s]"
          ]
        },
        {
          "output_type": "stream",
          "name": "stdout",
          "text": [
            "epoch: 231, loss: 32.73579\n"
          ]
        },
        {
          "output_type": "stream",
          "name": "stderr",
          "text": [
            " 77%|███████▋  | 1290/1666 [03:06<00:53,  6.98it/s]"
          ]
        },
        {
          "output_type": "stream",
          "name": "stdout",
          "text": [
            "epoch: 232, loss: 79.40782\n"
          ]
        },
        {
          "output_type": "stream",
          "name": "stderr",
          "text": [
            " 78%|███████▊  | 1295/1666 [03:07<00:53,  7.00it/s]"
          ]
        },
        {
          "output_type": "stream",
          "name": "stdout",
          "text": [
            "epoch: 233, loss: 219.35196\n"
          ]
        },
        {
          "output_type": "stream",
          "name": "stderr",
          "text": [
            " 78%|███████▊  | 1301/1666 [03:08<00:52,  6.91it/s]"
          ]
        },
        {
          "output_type": "stream",
          "name": "stdout",
          "text": [
            "epoch: 234, loss: 153.66962\n"
          ]
        },
        {
          "output_type": "stream",
          "name": "stderr",
          "text": [
            " 78%|███████▊  | 1306/1666 [03:08<00:51,  6.97it/s]"
          ]
        },
        {
          "output_type": "stream",
          "name": "stdout",
          "text": [
            "epoch: 235, loss: 103.07226\n"
          ]
        },
        {
          "output_type": "stream",
          "name": "stderr",
          "text": [
            " 79%|███████▉  | 1312/1666 [03:09<00:50,  7.01it/s]"
          ]
        },
        {
          "output_type": "stream",
          "name": "stdout",
          "text": [
            "epoch: 236, loss: 38.29535\n"
          ]
        },
        {
          "output_type": "stream",
          "name": "stderr",
          "text": [
            " 79%|███████▉  | 1318/1666 [03:10<00:49,  7.03it/s]"
          ]
        },
        {
          "output_type": "stream",
          "name": "stdout",
          "text": [
            "epoch: 237, loss: 231.01805\n"
          ]
        },
        {
          "output_type": "stream",
          "name": "stderr",
          "text": [
            " 79%|███████▉  | 1323/1666 [03:11<00:49,  6.99it/s]"
          ]
        },
        {
          "output_type": "stream",
          "name": "stdout",
          "text": [
            "epoch: 238, loss: 68.51946\n"
          ]
        },
        {
          "output_type": "stream",
          "name": "stderr",
          "text": [
            " 80%|███████▉  | 1329/1666 [03:12<00:47,  7.03it/s]"
          ]
        },
        {
          "output_type": "stream",
          "name": "stdout",
          "text": [
            "epoch: 239, loss: 68.00150\n"
          ]
        },
        {
          "output_type": "stream",
          "name": "stderr",
          "text": [
            " 80%|████████  | 1334/1666 [03:12<00:47,  6.96it/s]"
          ]
        },
        {
          "output_type": "stream",
          "name": "stdout",
          "text": [
            "epoch: 240, loss: 71.59628\n"
          ]
        },
        {
          "output_type": "stream",
          "name": "stderr",
          "text": [
            " 80%|████████  | 1340/1666 [03:13<00:48,  6.76it/s]"
          ]
        },
        {
          "output_type": "stream",
          "name": "stdout",
          "text": [
            "epoch: 241, loss: 196.11938\n"
          ]
        },
        {
          "output_type": "stream",
          "name": "stderr",
          "text": [
            " 81%|████████  | 1345/1666 [03:14<00:48,  6.68it/s]"
          ]
        },
        {
          "output_type": "stream",
          "name": "stdout",
          "text": [
            "epoch: 242, loss: 235.15759\n"
          ]
        },
        {
          "output_type": "stream",
          "name": "stderr",
          "text": [
            " 81%|████████  | 1351/1666 [03:15<00:46,  6.79it/s]"
          ]
        },
        {
          "output_type": "stream",
          "name": "stdout",
          "text": [
            "epoch: 243, loss: 81.72284\n"
          ]
        },
        {
          "output_type": "stream",
          "name": "stderr",
          "text": [
            " 81%|████████▏ | 1357/1666 [03:16<00:44,  6.93it/s]"
          ]
        },
        {
          "output_type": "stream",
          "name": "stdout",
          "text": [
            "epoch: 244, loss: 75.04382\n"
          ]
        },
        {
          "output_type": "stream",
          "name": "stderr",
          "text": [
            " 82%|████████▏ | 1362/1666 [03:17<00:43,  7.00it/s]"
          ]
        },
        {
          "output_type": "stream",
          "name": "stdout",
          "text": [
            "epoch: 245, loss: 35.19203\n"
          ]
        },
        {
          "output_type": "stream",
          "name": "stderr",
          "text": [
            " 82%|████████▏ | 1368/1666 [03:17<00:42,  7.01it/s]"
          ]
        },
        {
          "output_type": "stream",
          "name": "stdout",
          "text": [
            "epoch: 246, loss: 148.78477\n"
          ]
        },
        {
          "output_type": "stream",
          "name": "stderr",
          "text": [
            " 82%|████████▏ | 1373/1666 [03:18<00:41,  7.00it/s]"
          ]
        },
        {
          "output_type": "stream",
          "name": "stdout",
          "text": [
            "epoch: 247, loss: 37.98482\n"
          ]
        },
        {
          "output_type": "stream",
          "name": "stderr",
          "text": [
            " 83%|████████▎ | 1379/1666 [03:19<00:41,  6.99it/s]"
          ]
        },
        {
          "output_type": "stream",
          "name": "stdout",
          "text": [
            "epoch: 248, loss: 76.25111\n"
          ]
        },
        {
          "output_type": "stream",
          "name": "stderr",
          "text": [
            " 83%|████████▎ | 1384/1666 [03:20<00:40,  6.97it/s]"
          ]
        },
        {
          "output_type": "stream",
          "name": "stdout",
          "text": [
            "epoch: 249, loss: 54.66502\n"
          ]
        },
        {
          "output_type": "stream",
          "name": "stderr",
          "text": [
            " 83%|████████▎ | 1390/1666 [03:21<00:39,  7.01it/s]"
          ]
        },
        {
          "output_type": "stream",
          "name": "stdout",
          "text": [
            "epoch: 250, loss: 103.64255\n"
          ]
        },
        {
          "output_type": "stream",
          "name": "stderr",
          "text": [
            " 84%|████████▎ | 1395/1666 [03:21<00:38,  7.00it/s]"
          ]
        },
        {
          "output_type": "stream",
          "name": "stdout",
          "text": [
            "epoch: 251, loss: 100.47761\n"
          ]
        },
        {
          "output_type": "stream",
          "name": "stderr",
          "text": [
            " 84%|████████▍ | 1401/1666 [03:22<00:37,  7.00it/s]"
          ]
        },
        {
          "output_type": "stream",
          "name": "stdout",
          "text": [
            "epoch: 252, loss: 46.97517\n"
          ]
        },
        {
          "output_type": "stream",
          "name": "stderr",
          "text": [
            " 84%|████████▍ | 1406/1666 [03:23<00:37,  6.94it/s]"
          ]
        },
        {
          "output_type": "stream",
          "name": "stdout",
          "text": [
            "epoch: 253, loss: 79.56209\n"
          ]
        },
        {
          "output_type": "stream",
          "name": "stderr",
          "text": [
            " 85%|████████▍ | 1412/1666 [03:24<00:36,  6.98it/s]"
          ]
        },
        {
          "output_type": "stream",
          "name": "stdout",
          "text": [
            "epoch: 254, loss: 40.09101\n"
          ]
        },
        {
          "output_type": "stream",
          "name": "stderr",
          "text": [
            " 85%|████████▌ | 1418/1666 [03:25<00:35,  6.99it/s]"
          ]
        },
        {
          "output_type": "stream",
          "name": "stdout",
          "text": [
            "epoch: 255, loss: 84.04724\n"
          ]
        },
        {
          "output_type": "stream",
          "name": "stderr",
          "text": [
            " 85%|████████▌ | 1423/1666 [03:25<00:34,  7.02it/s]"
          ]
        },
        {
          "output_type": "stream",
          "name": "stdout",
          "text": [
            "epoch: 256, loss: 53.33270\n"
          ]
        },
        {
          "output_type": "stream",
          "name": "stderr",
          "text": [
            " 86%|████████▌ | 1429/1666 [03:26<00:34,  6.88it/s]"
          ]
        },
        {
          "output_type": "stream",
          "name": "stdout",
          "text": [
            "epoch: 257, loss: 67.13420\n"
          ]
        },
        {
          "output_type": "stream",
          "name": "stderr",
          "text": [
            " 86%|████████▌ | 1434/1666 [03:27<00:34,  6.80it/s]"
          ]
        },
        {
          "output_type": "stream",
          "name": "stdout",
          "text": [
            "epoch: 258, loss: 35.72115\n"
          ]
        },
        {
          "output_type": "stream",
          "name": "stderr",
          "text": [
            " 86%|████████▋ | 1440/1666 [03:28<00:33,  6.70it/s]"
          ]
        },
        {
          "output_type": "stream",
          "name": "stdout",
          "text": [
            "epoch: 259, loss: 113.98741\n"
          ]
        },
        {
          "output_type": "stream",
          "name": "stderr",
          "text": [
            " 87%|████████▋ | 1445/1666 [03:29<00:32,  6.90it/s]"
          ]
        },
        {
          "output_type": "stream",
          "name": "stdout",
          "text": [
            "epoch: 260, loss: 59.82249\n"
          ]
        },
        {
          "output_type": "stream",
          "name": "stderr",
          "text": [
            " 87%|████████▋ | 1451/1666 [03:29<00:30,  6.95it/s]"
          ]
        },
        {
          "output_type": "stream",
          "name": "stdout",
          "text": [
            "epoch: 261, loss: 33.28738\n"
          ]
        },
        {
          "output_type": "stream",
          "name": "stderr",
          "text": [
            " 87%|████████▋ | 1456/1666 [03:30<00:30,  7.00it/s]"
          ]
        },
        {
          "output_type": "stream",
          "name": "stdout",
          "text": [
            "epoch: 262, loss: 643.28510\n"
          ]
        },
        {
          "output_type": "stream",
          "name": "stderr",
          "text": [
            " 88%|████████▊ | 1462/1666 [03:31<00:29,  7.01it/s]"
          ]
        },
        {
          "output_type": "stream",
          "name": "stdout",
          "text": [
            "epoch: 263, loss: 81.83408\n"
          ]
        },
        {
          "output_type": "stream",
          "name": "stderr",
          "text": [
            " 88%|████████▊ | 1468/1666 [03:32<00:28,  7.02it/s]"
          ]
        },
        {
          "output_type": "stream",
          "name": "stdout",
          "text": [
            "epoch: 264, loss: 693.45978\n"
          ]
        },
        {
          "output_type": "stream",
          "name": "stderr",
          "text": [
            " 88%|████████▊ | 1473/1666 [03:33<00:27,  6.99it/s]"
          ]
        },
        {
          "output_type": "stream",
          "name": "stdout",
          "text": [
            "epoch: 265, loss: 48.02861\n"
          ]
        },
        {
          "output_type": "stream",
          "name": "stderr",
          "text": [
            " 89%|████████▉ | 1479/1666 [03:33<00:26,  6.98it/s]"
          ]
        },
        {
          "output_type": "stream",
          "name": "stdout",
          "text": [
            "epoch: 266, loss: 96.20033\n"
          ]
        },
        {
          "output_type": "stream",
          "name": "stderr",
          "text": [
            " 89%|████████▉ | 1484/1666 [03:34<00:26,  6.94it/s]"
          ]
        },
        {
          "output_type": "stream",
          "name": "stdout",
          "text": [
            "epoch: 267, loss: 206.45517\n"
          ]
        },
        {
          "output_type": "stream",
          "name": "stderr",
          "text": [
            " 89%|████████▉ | 1490/1666 [03:35<00:25,  6.99it/s]"
          ]
        },
        {
          "output_type": "stream",
          "name": "stdout",
          "text": [
            "epoch: 268, loss: 104.45316\n"
          ]
        },
        {
          "output_type": "stream",
          "name": "stderr",
          "text": [
            " 90%|████████▉ | 1495/1666 [03:36<00:24,  7.01it/s]"
          ]
        },
        {
          "output_type": "stream",
          "name": "stdout",
          "text": [
            "epoch: 269, loss: 389.03519\n"
          ]
        },
        {
          "output_type": "stream",
          "name": "stderr",
          "text": [
            " 90%|█████████ | 1501/1666 [03:37<00:23,  6.99it/s]"
          ]
        },
        {
          "output_type": "stream",
          "name": "stdout",
          "text": [
            "epoch: 270, loss: 177.68956\n"
          ]
        },
        {
          "output_type": "stream",
          "name": "stderr",
          "text": [
            " 90%|█████████ | 1506/1666 [03:37<00:22,  7.00it/s]"
          ]
        },
        {
          "output_type": "stream",
          "name": "stdout",
          "text": [
            "epoch: 271, loss: 426.75836\n"
          ]
        },
        {
          "output_type": "stream",
          "name": "stderr",
          "text": [
            " 91%|█████████ | 1512/1666 [03:38<00:22,  7.00it/s]"
          ]
        },
        {
          "output_type": "stream",
          "name": "stdout",
          "text": [
            "epoch: 272, loss: 31.26439\n"
          ]
        },
        {
          "output_type": "stream",
          "name": "stderr",
          "text": [
            " 91%|█████████ | 1518/1666 [03:39<00:21,  6.80it/s]"
          ]
        },
        {
          "output_type": "stream",
          "name": "stdout",
          "text": [
            "epoch: 273, loss: 138.20503\n"
          ]
        },
        {
          "output_type": "stream",
          "name": "stderr",
          "text": [
            " 91%|█████████▏| 1523/1666 [03:40<00:21,  6.78it/s]"
          ]
        },
        {
          "output_type": "stream",
          "name": "stdout",
          "text": [
            "epoch: 274, loss: 44.72314\n"
          ]
        },
        {
          "output_type": "stream",
          "name": "stderr",
          "text": [
            " 92%|█████████▏| 1529/1666 [03:41<00:20,  6.70it/s]"
          ]
        },
        {
          "output_type": "stream",
          "name": "stdout",
          "text": [
            "epoch: 275, loss: 70.84553\n"
          ]
        },
        {
          "output_type": "stream",
          "name": "stderr",
          "text": [
            " 92%|█████████▏| 1534/1666 [03:41<00:19,  6.88it/s]"
          ]
        },
        {
          "output_type": "stream",
          "name": "stdout",
          "text": [
            "epoch: 276, loss: 65.10529\n"
          ]
        },
        {
          "output_type": "stream",
          "name": "stderr",
          "text": [
            " 92%|█████████▏| 1540/1666 [03:42<00:18,  6.97it/s]"
          ]
        },
        {
          "output_type": "stream",
          "name": "stdout",
          "text": [
            "epoch: 277, loss: 352.58386\n"
          ]
        },
        {
          "output_type": "stream",
          "name": "stderr",
          "text": [
            " 93%|█████████▎| 1545/1666 [03:43<00:17,  6.97it/s]"
          ]
        },
        {
          "output_type": "stream",
          "name": "stdout",
          "text": [
            "epoch: 278, loss: 207.89577\n"
          ]
        },
        {
          "output_type": "stream",
          "name": "stderr",
          "text": [
            " 93%|█████████▎| 1551/1666 [03:44<00:16,  7.00it/s]"
          ]
        },
        {
          "output_type": "stream",
          "name": "stdout",
          "text": [
            "epoch: 279, loss: 190.67523\n"
          ]
        },
        {
          "output_type": "stream",
          "name": "stderr",
          "text": [
            " 93%|█████████▎| 1556/1666 [03:44<00:15,  7.01it/s]"
          ]
        },
        {
          "output_type": "stream",
          "name": "stdout",
          "text": [
            "epoch: 280, loss: 135.10916\n"
          ]
        },
        {
          "output_type": "stream",
          "name": "stderr",
          "text": [
            " 94%|█████████▍| 1562/1666 [03:45<00:14,  6.99it/s]"
          ]
        },
        {
          "output_type": "stream",
          "name": "stdout",
          "text": [
            "epoch: 281, loss: 75.10759\n"
          ]
        },
        {
          "output_type": "stream",
          "name": "stderr",
          "text": [
            " 94%|█████████▍| 1568/1666 [03:46<00:14,  6.99it/s]"
          ]
        },
        {
          "output_type": "stream",
          "name": "stdout",
          "text": [
            "epoch: 282, loss: 352.99768\n"
          ]
        },
        {
          "output_type": "stream",
          "name": "stderr",
          "text": [
            " 94%|█████████▍| 1573/1666 [03:47<00:13,  7.00it/s]"
          ]
        },
        {
          "output_type": "stream",
          "name": "stdout",
          "text": [
            "epoch: 283, loss: 54.31374\n"
          ]
        },
        {
          "output_type": "stream",
          "name": "stderr",
          "text": [
            " 95%|█████████▍| 1579/1666 [03:48<00:12,  7.01it/s]"
          ]
        },
        {
          "output_type": "stream",
          "name": "stdout",
          "text": [
            "epoch: 284, loss: 193.23376\n"
          ]
        },
        {
          "output_type": "stream",
          "name": "stderr",
          "text": [
            " 95%|█████████▌| 1584/1666 [03:48<00:11,  6.98it/s]"
          ]
        },
        {
          "output_type": "stream",
          "name": "stdout",
          "text": [
            "epoch: 285, loss: 34.87898\n"
          ]
        },
        {
          "output_type": "stream",
          "name": "stderr",
          "text": [
            " 95%|█████████▌| 1590/1666 [03:49<00:10,  6.98it/s]"
          ]
        },
        {
          "output_type": "stream",
          "name": "stdout",
          "text": [
            "epoch: 286, loss: 167.76134\n"
          ]
        },
        {
          "output_type": "stream",
          "name": "stderr",
          "text": [
            " 96%|█████████▌| 1595/1666 [03:50<00:10,  6.95it/s]"
          ]
        },
        {
          "output_type": "stream",
          "name": "stdout",
          "text": [
            "epoch: 287, loss: 62.89186\n"
          ]
        },
        {
          "output_type": "stream",
          "name": "stderr",
          "text": [
            " 96%|█████████▌| 1601/1666 [03:51<00:09,  6.87it/s]"
          ]
        },
        {
          "output_type": "stream",
          "name": "stdout",
          "text": [
            "epoch: 288, loss: 169.99284\n"
          ]
        },
        {
          "output_type": "stream",
          "name": "stderr",
          "text": [
            " 96%|█████████▋| 1606/1666 [03:52<00:08,  6.71it/s]"
          ]
        },
        {
          "output_type": "stream",
          "name": "stdout",
          "text": [
            "epoch: 289, loss: 108.34900\n"
          ]
        },
        {
          "output_type": "stream",
          "name": "stderr",
          "text": [
            " 97%|█████████▋| 1612/1666 [03:53<00:07,  6.76it/s]"
          ]
        },
        {
          "output_type": "stream",
          "name": "stdout",
          "text": [
            "epoch: 290, loss: 42.06538\n"
          ]
        },
        {
          "output_type": "stream",
          "name": "stderr",
          "text": [
            " 97%|█████████▋| 1618/1666 [03:53<00:07,  6.69it/s]"
          ]
        },
        {
          "output_type": "stream",
          "name": "stdout",
          "text": [
            "epoch: 291, loss: 43.72292\n"
          ]
        },
        {
          "output_type": "stream",
          "name": "stderr",
          "text": [
            " 97%|█████████▋| 1623/1666 [03:54<00:06,  6.95it/s]"
          ]
        },
        {
          "output_type": "stream",
          "name": "stdout",
          "text": [
            "epoch: 292, loss: 40.32246\n"
          ]
        },
        {
          "output_type": "stream",
          "name": "stderr",
          "text": [
            " 98%|█████████▊| 1629/1666 [03:55<00:05,  7.00it/s]"
          ]
        },
        {
          "output_type": "stream",
          "name": "stdout",
          "text": [
            "epoch: 293, loss: 106.30611\n"
          ]
        },
        {
          "output_type": "stream",
          "name": "stderr",
          "text": [
            " 98%|█████████▊| 1634/1666 [03:56<00:04,  6.98it/s]"
          ]
        },
        {
          "output_type": "stream",
          "name": "stdout",
          "text": [
            "epoch: 294, loss: 221.58354\n"
          ]
        },
        {
          "output_type": "stream",
          "name": "stderr",
          "text": [
            " 98%|█████████▊| 1640/1666 [03:57<00:03,  7.03it/s]"
          ]
        },
        {
          "output_type": "stream",
          "name": "stdout",
          "text": [
            "epoch: 295, loss: 161.47667\n"
          ]
        },
        {
          "output_type": "stream",
          "name": "stderr",
          "text": [
            " 99%|█████████▊| 1645/1666 [03:57<00:03,  6.99it/s]"
          ]
        },
        {
          "output_type": "stream",
          "name": "stdout",
          "text": [
            "epoch: 296, loss: 254.38351\n"
          ]
        },
        {
          "output_type": "stream",
          "name": "stderr",
          "text": [
            " 99%|█████████▉| 1651/1666 [03:58<00:02,  6.97it/s]"
          ]
        },
        {
          "output_type": "stream",
          "name": "stdout",
          "text": [
            "epoch: 297, loss: 138.84409\n"
          ]
        },
        {
          "output_type": "stream",
          "name": "stderr",
          "text": [
            " 99%|█████████▉| 1656/1666 [03:59<00:01,  6.74it/s]"
          ]
        },
        {
          "output_type": "stream",
          "name": "stdout",
          "text": [
            "epoch: 298, loss: 80.37688\n"
          ]
        },
        {
          "output_type": "stream",
          "name": "stderr",
          "text": [
            "100%|█████████▉| 1662/1666 [04:00<00:00,  6.74it/s]"
          ]
        },
        {
          "output_type": "stream",
          "name": "stdout",
          "text": [
            "epoch: 299, loss: 51.55357\n"
          ]
        },
        {
          "output_type": "stream",
          "name": "stderr",
          "text": [
            "100%|██████████| 1666/1666 [04:00<00:00,  6.92it/s]\n"
          ]
        }
      ],
      "source": [
        "LossList4 = []\n",
        "epoch=0\n",
        "for epochs in tqdm(range(num_epochs)):\n",
        "    totalLoss = 0\n",
        "    for i, data in enumerate (train_loader):\n",
        "        inputs, labels = data\n",
        "        inputs, labels = data[0].to(device), data[1].to(device)\n",
        "\n",
        "        optimizer4.zero_grad()   # 将每次传播时的梯度累积清除\n",
        "        outputs = moudle4(inputs)\n",
        "\n",
        "        # print(outputs.shape, batch_y.shape)\n",
        "        loss = criterion(outputs,labels) # 计算损失\n",
        "        totalLoss = totalLoss + loss.item()\n",
        "        loss.backward() # 反向传播\n",
        "        optimizer4.step()\n",
        "        epoch+=1\n",
        "        if epoch % 100 == 0:\n",
        "            print(\"epoch: %d, loss: %1.5f\" % (epoch / 100, loss.item()))\n",
        "    LossList4.append(totalLoss / (i + 1))"
      ]
    },
    {
      "cell_type": "code",
      "execution_count": 232,
      "id": "APgXPv4Prteo",
      "metadata": {
        "id": "APgXPv4Prteo"
      },
      "outputs": [],
      "source": [
        "# Lstm-Cnn 训练集表现\n",
        "moudle4.eval()\n",
        "train_predict_4 = moudle4(train_x1)\n",
        "\n",
        "train_predict_4 = train_predict_4.cpu().data.numpy()\n",
        "y_train_plot = train_y1.cpu().data.numpy()\n",
        "y_train_plot = np.reshape(y_train_plot, (-1,1))\n",
        "\n",
        "train_predict_4 = pd.DataFrame(train_predict_4)\n",
        "y_train_plot = pd.DataFrame(y_train_plot)\n",
        "#train_predict_4 = train_predict_4.apply(np.exp)\n",
        "#y_train_plot = y_train_plot.apply(np.exp)\n",
        "y_train_plot = np.array(y_train_plot).tolist()\n",
        "train_predict_4 = np.array(train_predict_4).tolist()"
      ]
    },
    {
      "cell_type": "code",
      "execution_count": 233,
      "id": "--mnWyaZtWVt",
      "metadata": {
        "id": "--mnWyaZtWVt",
        "colab": {
          "base_uri": "https://localhost:8080/"
        },
        "outputId": "ee2803ca-d430-4fc6-9a12-6b137e09d1a1"
      },
      "outputs": [
        {
          "output_type": "stream",
          "name": "stdout",
          "text": [
            "Lstm-Cnn Train MAE/RMSE/MAPE/R_square\n",
            "11.162787102107648\n",
            "15.624902547955863\n",
            "0.11380183334460969\n",
            "0.973202280851255\n"
          ]
        }
      ],
      "source": [
        "print('Lstm-Cnn Train MAE/RMSE/MAPE/R_square')\n",
        "print(mean_absolute_error(y_train_plot, train_predict_4))\n",
        "print(np.sqrt(mean_squared_error(y_train_plot, train_predict_4) ))\n",
        "print(mean_absolute_percentage_error(y_train_plot, train_predict_4))\n",
        "print(r2_score(y_train_plot, train_predict_4))"
      ]
    },
    {
      "cell_type": "code",
      "execution_count": 234,
      "id": "tjwY3-6VtbE4",
      "metadata": {
        "id": "tjwY3-6VtbE4"
      },
      "outputs": [],
      "source": [
        "# Lstm-Cnn 测试集表现\n",
        "moudle4.eval()\n",
        "test_predict_4 = moudle4(test_x1)\n",
        "\n",
        "test_predict_4 = test_predict_4.cpu().data.numpy()\n",
        "y_test_plot = test_y1.cpu().data.numpy()\n",
        "y_test_plot = np.reshape(y_test_plot, (-1,1))\n",
        "\n",
        "test_predict_4 = pd.DataFrame(test_predict_4)\n",
        "y_test_plot = pd.DataFrame(y_test_plot)\n",
        "#test_predict_4 = test_predict_4.apply(np.exp)\n",
        "#y_test_plot = y_test_plot.apply(np.exp)"
      ]
    },
    {
      "cell_type": "code",
      "execution_count": 235,
      "id": "nBJAR6ubtnc8",
      "metadata": {
        "id": "nBJAR6ubtnc8",
        "colab": {
          "base_uri": "https://localhost:8080/"
        },
        "outputId": "b7d3bd86-af1d-4660-a6a4-978a61b3e702"
      },
      "outputs": [
        {
          "output_type": "stream",
          "name": "stdout",
          "text": [
            "Lstm-Cnn Test MAE/RMSE/R_square\n",
            "25.693562\n",
            "35.297844\n",
            "0.16343828\n",
            "0.9047803527076588\n"
          ]
        }
      ],
      "source": [
        "print('Lstm-Cnn Test MAE/RMSE/R_square')\n",
        "print(mean_absolute_error(y_test_plot, test_predict_4))\n",
        "print(np.sqrt(mean_squared_error(y_test_plot, test_predict_4) ))\n",
        "print(mean_absolute_percentage_error(y_test_plot, test_predict_4))\n",
        "print(r2_score(y_test_plot, test_predict_4))"
      ]
    },
    {
      "cell_type": "markdown",
      "id": "35dab0cc",
      "metadata": {
        "id": "35dab0cc"
      },
      "source": [
        "# 结果展示"
      ]
    },
    {
      "cell_type": "code",
      "execution_count": 154,
      "id": "4c15b886",
      "metadata": {
        "colab": {
          "base_uri": "https://localhost:8080/",
          "height": 545
        },
        "id": "4c15b886",
        "outputId": "5a6ca222-2bb5-4b69-bd18-35a3f3003a8a"
      },
      "outputs": [
        {
          "output_type": "display_data",
          "data": {
            "text/plain": [
              "<Figure size 800x600 with 1 Axes>"
            ],
            "image/png": "[encoded data removed]"
          },
          "metadata": {}
        }
      ],
      "source": [
        "#训练损失表现\n",
        "fig, axes = plt.subplots(nrows=1, ncols=1, figsize=(8,6))\n",
        "plt.title('Train LOSS')\n",
        "#axes.plot(LossList1, 'g--')\n",
        "#axes.plot(LossList2, 'r--')\n",
        "#axes.plot(LossList3, 'y--')\n",
        "axes.plot(LossList4, 'b--')\n",
        "plt.legend(('Lstm', 'Cnn', 'Cnn-Lstm', 'Lstm-Cnn'),fontsize='10')\n",
        "plt.savefig('drive/MyDrive/plot/训练损失结果ce.png', dpi=1200)\n",
        "plt.show()"
      ]
    },
    {
      "cell_type": "markdown",
      "id": "92am_jkXEhbt",
      "metadata": {
        "id": "92am_jkXEhbt"
      },
      "source": [
        "## 训练集表现结果"
      ]
    },
    {
      "cell_type": "code",
      "execution_count": 155,
      "id": "gghtV7SVJXJN",
      "metadata": {
        "id": "gghtV7SVJXJN"
      },
      "outputs": [],
      "source": [
        "#train_predict_1 = pd.DataFrame(train_predict_1)\n",
        "#train_predict_2 = pd.DataFrame(train_predict_2)\n",
        "#train_predict_3 = pd.DataFrame(train_predict_3)\n",
        "train_predict_4 = pd.DataFrame(train_predict_4)\n",
        "y_train_plot = pd.DataFrame(y_train_plot)"
      ]
    },
    {
      "cell_type": "code",
      "execution_count": 156,
      "id": "ccb05532",
      "metadata": {
        "colab": {
          "base_uri": "https://localhost:8080/",
          "height": 430
        },
        "id": "ccb05532",
        "outputId": "7e9395c0-24d3-4189-f1d1-2e914975ba43"
      },
      "outputs": [
        {
          "output_type": "display_data",
          "data": {
            "text/plain": [
              "<Figure size 640x480 with 1 Axes>"
            ],
            "image/png": "[encoded data removed]"
          },
          "metadata": {}
        }
      ],
      "source": [
        "#训练集结果\n",
        "#df = pd.DataFrame({'真实值':y_data_plot, 'SDM-Cnn':data_predict_1, 'SDM-Lstm':data_predict_2, 'SDM-Lstm-Cnn':data_predict_3})\n",
        "#df = pd.concat([y_train_plot,train_predict_1,train_predict_2,train_predict_3,train_predict_4],axis = 1,ignore_index = True)\n",
        "#df.to_excel('drive/MyDrive/炳哥合作/消融实验/train(weight).xlsx', sheet_name='sheet1', index=False)\n",
        "\n",
        "\n",
        "plt.plot(y_train_plot,'-',color='b')\n",
        "plt.plot(train_predict_4,'--',color='y')\n",
        "plt.legend(('real', 'Cnn'),fontsize='6')\n",
        "#plt.xlabel(xlabel='训练集预测结果', fontsize=16)\n",
        "plt.savefig('drive/MyDrive/plot/消融实验(权训练集)ce.png', dpi=1200)\n",
        "plt.show()"
      ]
    },
    {
      "cell_type": "markdown",
      "id": "Mrhp_SBgE16l",
      "metadata": {
        "id": "Mrhp_SBgE16l"
      },
      "source": [
        "## 测试集表现结果"
      ]
    },
    {
      "cell_type": "code",
      "execution_count": 192,
      "id": "wDKjeoj5KQDw",
      "metadata": {
        "id": "wDKjeoj5KQDw"
      },
      "outputs": [],
      "source": [
        "#test_predict_1 = pd.DataFrame(test_predict_1)\n",
        "#test_predict_2 = pd.DataFrame(test_predict_2)\n",
        "#test_predict_3 = pd.DataFrame(test_predict_3)\n",
        "test_predict_4 = pd.DataFrame(test_predict_4)\n",
        "y_test_plot = pd.DataFrame(y_test_plot)"
      ]
    },
    {
      "cell_type": "code",
      "execution_count": 193,
      "id": "Ep7Jvj2SE4Kn",
      "metadata": {
        "colab": {
          "base_uri": "https://localhost:8080/",
          "height": 431
        },
        "id": "Ep7Jvj2SE4Kn",
        "outputId": "9bfcdcfa-f0c9-49bf-c5ff-e8d47748bf82"
      },
      "outputs": [
        {
          "output_type": "display_data",
          "data": {
            "text/plain": [
              "<Figure size 640x480 with 1 Axes>"
            ],
            "image/png": "[encoded data removed]"
          },
          "metadata": {}
        }
      ],
      "source": [
        "#测试集结果\n",
        "#df_1 = pd.DataFrame({'真实值':y_data_plot, 'SDM-Cnn':data_predict_1, 'SDM-Lstm':data_predict_2, 'SDM-Lstm-Cnn':data_predict_3})\n",
        "#df_1 = pd.concat([y_test_plot,test_predict_1,test_predict_2,test_predict_3,test_predict_4],axis = 1,ignore_index = True)\n",
        "#df_1.to_excel('drive/MyDrive/炳哥合作/消融实验/test(weight).xlsx', sheet_name='sheet1', index=False)\n",
        "\n",
        "plt.plot(y_test_plot,'-',color='b')\n",
        "plt.plot(test_predict_4,'--',color='y')\n",
        "plt.legend(('real', 'Cnn'),fontsize='6')\n",
        "#plt.xlabel(xlabel='测试集预测结果', fontsize=16)\n",
        "#plt.savefig('drive/MyDrive/plot/消融实验(权测试集)ce.pdf', dpi=1200)\n",
        "plt.show()"
      ]
    },
    {
      "cell_type": "markdown",
      "id": "BKBMsyawGA9A",
      "metadata": {
        "id": "BKBMsyawGA9A"
      },
      "source": [
        "## 训练集+测试集结果展示"
      ]
    },
    {
      "cell_type": "code",
      "execution_count": 159,
      "id": "tvrsQY5PGFBD",
      "metadata": {
        "colab": {
          "base_uri": "https://localhost:8080/",
          "height": 452
        },
        "id": "tvrsQY5PGFBD",
        "outputId": "d3d6c40f-1d60-45ea-fd70-0c56b75cd738"
      },
      "outputs": [
        {
          "output_type": "display_data",
          "data": {
            "text/plain": [
              "<Figure size 640x480 with 2 Axes>"
            ],
            "image/png": "[encoded data removed]"
          },
          "metadata": {}
        }
      ],
      "source": [
        "plt.subplot(2,1,1)\n",
        "plt.plot(y_train_plot,'-',color='b')\n",
        "plt.plot(train_predict_4,'--',color='c')\n",
        "plt.legend(('real', 'CNN'),fontsize='6')\n",
        "plt.title('Training Set')\n",
        "plt.subplots_adjust(left=None, bottom=None, right=None, top=None, wspace=0.5, hspace=None)\n",
        "plt.subplot(2,1,2)\n",
        "plt.plot(y_test_plot,'-',color='b')\n",
        "plt.plot(test_predict_4,'--',color='c')\n",
        "plt.legend(('real', 'CNN'),fontsize='6')\n",
        "plt.title('Testing Set')\n",
        "plt.subplots_adjust(left=None, bottom=None, right=None, top=None, wspace=0.5, hspace=0.5)\n",
        "plt.savefig('drive/MyDrive/plot/消融实验(权汇总)ce.pdf', dpi=1200)\n",
        "plt.show()"
      ]
    },
    {
      "cell_type": "markdown",
      "source": [
        "预测"
      ],
      "metadata": {
        "id": "M2xMnhVNBcGx"
      },
      "id": "M2xMnhVNBcGx"
    },
    {
      "cell_type": "code",
      "source": [
        "moudle4.eval()\n",
        "predict_1 = moudle4(pre_x1)\n",
        "\n",
        "predict_1 = predict_1.cpu().data.numpy()\n",
        "predict_1 = pd.DataFrame(predict_1)\n",
        "#predict_1 = predict_1.apply(np.exp)\n",
        "#predict_1 = np.array(predict_1).tolist()"
      ],
      "metadata": {
        "id": "z-pXkXa028B9"
      },
      "id": "z-pXkXa028B9",
      "execution_count": 160,
      "outputs": []
    },
    {
      "cell_type": "code",
      "source": [
        "moudle4.eval()\n",
        "predict_2 = moudle4(pre_x2)\n",
        "\n",
        "predict_2 = predict_2.cpu().data.numpy()\n",
        "predict_2 = pd.DataFrame(predict_2)\n",
        "#predict_2 = predict_2.apply(np.exp)"
      ],
      "metadata": {
        "id": "sdPCp84128Ek"
      },
      "id": "sdPCp84128Ek",
      "execution_count": 161,
      "outputs": []
    },
    {
      "cell_type": "code",
      "source": [
        "moudle4.eval()\n",
        "predict_3 = moudle4(pre_x3)\n",
        "\n",
        "predict_3 = predict_3.cpu().data.numpy()\n",
        "predict_3 = pd.DataFrame(predict_3)\n",
        "#predict_3 = predict_3.apply(np.exp)"
      ],
      "metadata": {
        "id": "st92e5O828HA"
      },
      "id": "st92e5O828HA",
      "execution_count": 162,
      "outputs": []
    },
    {
      "cell_type": "code",
      "source": [
        "moudle4.eval()\n",
        "predict_4 = moudle4(pre_x4)\n",
        "\n",
        "predict_4 = predict_4.cpu().data.numpy()\n",
        "predict_4 = pd.DataFrame(predict_4)\n",
        "#predict_4 = predict_4.apply(np.exp)"
      ],
      "metadata": {
        "id": "AD4l3psE6Uza"
      },
      "id": "AD4l3psE6Uza",
      "execution_count": 163,
      "outputs": []
    },
    {
      "cell_type": "code",
      "source": [
        "moudle4.eval()\n",
        "predict_5 = moudle4(pre_x5)\n",
        "\n",
        "predict_5 = predict_5.cpu().data.numpy()\n",
        "predict_5 = pd.DataFrame(predict_5)\n",
        "#predict_5 = predict_5.apply(np.exp)"
      ],
      "metadata": {
        "id": "M46sj19C6U2H"
      },
      "id": "M46sj19C6U2H",
      "execution_count": 164,
      "outputs": []
    },
    {
      "cell_type": "code",
      "source": [
        "predict_1.to_excel(excel_writer='基准情景预测ce.xlsx', index=False)\n",
        "predict_2.to_excel(excel_writer='产业结构优化情景预测ce.xlsx', index=False)\n",
        "predict_3.to_excel(excel_writer='粗放情景预测ce.xlsx', index=False)\n",
        "predict_4.to_excel(excel_writer='节能减排情景预测ce.xlsx', index=False)\n",
        "predict_5.to_excel(excel_writer='协调发展情景预测ce.xlsx', index=False)"
      ],
      "metadata": {
        "id": "Egyzy3oX6U4U"
      },
      "id": "Egyzy3oX6U4U",
      "execution_count": 165,
      "outputs": []
    }
  ],
  "metadata": {
    "accelerator": "GPU",
    "colab": {
      "gpuType": "T4",
      "provenance": []
    },
    "kernelspec": {
      "display_name": "Python 3",
      "name": "python3"
    },
    "language_info": {
      "codemirror_mode": {
        "name": "ipython",
        "version": 3
      },
      "file_extension": ".py",
      "mimetype": "text/x-python",
      "name": "python",
      "nbconvert_exporter": "python",
      "pygments_lexer": "ipython3",
      "version": "3.7.11"
    }
  },
  "nbformat": 4,
  "nbformat_minor": 5
}